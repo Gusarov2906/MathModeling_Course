{
 "cells": [
  {
   "cell_type": "markdown",
   "id": "b6ad2a52-9502-41eb-b952-21d2113c4f99",
   "metadata": {},
   "source": [
    "# Лабораторная работа №2"
   ]
  },
  {
   "cell_type": "markdown",
   "id": "3e8f66dd-ca9e-481c-a73d-3afbe0d238ec",
   "metadata": {},
   "source": [
    "## \"ПРО 2016\""
   ]
  },
  {
   "cell_type": "markdown",
   "id": "59397a12-d36f-4112-ba2a-d88e92653bbc",
   "metadata": {},
   "source": [
    "#### *Выполнил студент группы ПИН-44 Гусаров Андрей*"
   ]
  },
  {
   "cell_type": "markdown",
   "id": "b08a802c-8011-48f9-985d-1155403b19bb",
   "metadata": {},
   "source": [
    "#### Постановка задачи"
   ]
  },
  {
   "cell_type": "markdown",
   "id": "731493bd-0b61-411b-ab84-decb187d96dc",
   "metadata": {},
   "source": [
    "\"Противник\" производит пуск ракеты класса \"земля-земля\" из т. А со скоростью v=1000 м/с под углом pi/4 по цели в т. Д, расположенной на Вашей территории (расстояние L между тт. А и Д можно рассчитать). Старт мгновенно фиксируется со спутника и после принятия решения о противодействии начинается телеметрия траектории ракеты. Ежесекундно измеряются (к сожалению с неизбежными ошибками) координаты траектории движения ракеты на пассивном участке траектории с 15-й по 40-ю секунды полета. Полученные данные обрабатываются для получения уравнения движения ракеты. Одна антиракета должна стартовать из точки С, расположенной на растоянии 0.75L от т. А (или 0.25L от т. Д)не позднее, чем ракета пройдет через максимальную по высоте точку своей траектории) и поразить ракету в полете,  другая антиракета из этой же точки С должна накрыть пусковую площадку противника (оцененное по измерениям положение т. А). Стартовая Скорость антиракеты u0=2000 м/с, а угол старта и момент старта Вам необходимо определить."
   ]
  },
  {
   "cell_type": "markdown",
   "id": "1559f7d8-81c3-4a9a-8820-32b7892352f3",
   "metadata": {},
   "source": [
    "<img src=\"Model.png\" alt=\"drawing\" width=\"800\"/>"
   ]
  },
  {
   "cell_type": "markdown",
   "id": "4d4e99f0-ac2a-4b6a-893d-67a03ff42102",
   "metadata": {},
   "source": [
    "Предположим, что:\n",
    "<ol>\n",
    "<li>Любая ракета -  материальная точка</li>\n",
    "<li>На ракеты действует только сила тяжести</li>\n",
    "<li>Ускорение сводобного падения постоянно</li>\n",
    "<li>Отсутствует сила сопротивления воздуха</li>\n",
    "<li>Траектория ракет всегда строится по параболе</li>\n",
    "</ol>"
   ]
  },
  {
   "cell_type": "markdown",
   "id": "755f72d6-c947-4b5b-a32c-831e7263ec11",
   "metadata": {
    "tags": []
   },
   "source": [
    "$v_{0} - начальная\\ скорость\\ ракеты\\ противника$</br>\n",
    "$u_{0} - начальная\\ скорость\\ ракет\\ ``перехватчика``\\ и\\ ``возмездия``$</br>\n",
    "$v_{1} - скорость\\ ракеты\\ противника$</br>\n",
    "$u_{1} - скорость\\ ракеты\\ ``возмездия``$</br>\n",
    "$u_{2} - скорость\\ ракеты\\ ``перехватчика``$</br>\n",
    "$L_{r} - расстояние в период с 15 по 40 секунды(время расчета траектории базой)$</br>\n",
    "$L_{1} - расстояние\\ между\\ базой\\ противника\\ и\\ пусковой\\ установкой\\ защиты $</br>\n",
    "$L - расстояние\\ между\\ базой\\ противника\\ и\\ конечной\\ целью\\ врага $</br>\n",
    "$\\alpha - угол\\ ракеты\\ ``противника``$</br>\n",
    "$\\beta - угол\\ ракеты\\ \\ ``возмездия``$</br>\n",
    "$\\gamma - угол\\ ракеты\\ ``перехватчика`` $</br>\n",
    "$\\varepsilon  - среднее\\ квадратичное\\ отклонение\\ нормального\\ распределения\\ ошибки\\ при\\ определении\\ координат\\ базы\\ $</br>\n",
    "$противника $</br>"
   ]
  },
  {
   "cell_type": "markdown",
   "id": "5d694b67-f7c2-4ffa-b760-7c249be82ce9",
   "metadata": {},
   "source": [
    "Дано: <br>\n",
    "$v_{0} = 1000\\ м/с$</br>\n",
    "$u_{0} = 2000\\ м/с$</br>\n",
    "$t_{зад} = 47\\ с$</br>\n",
    "$\\varepsilon = 20$</br>\n",
    "$\\alpha = \\frac{\\pi}{4}$</br>\n",
    "Найти:</br>\n",
    "$\\beta - ?$</br>\n",
    "$\\gamma - ?$"
   ]
  },
  {
   "cell_type": "markdown",
   "id": "4d8586f2-8dc4-4d4d-bf0d-46410e512f5c",
   "metadata": {
    "tags": []
   },
   "source": [
    "#### Аналитическое исследование"
   ]
  },
  {
   "cell_type": "markdown",
   "id": "1015a10b-156d-43b5-a69a-d8cd3abc4a04",
   "metadata": {},
   "source": [
    "##### Рассмотрим уранения движения тела, брошенного под углом к горизонту:"
   ]
  },
  {
   "cell_type": "markdown",
   "id": "b8a5dd39-6e11-430d-b48a-d3d9fb613e6a",
   "metadata": {},
   "source": [
    "Составим уравнения скоростей в проекции на оси координат при t = 0:"
   ]
  },
  {
   "cell_type": "markdown",
   "id": "d1f80e19-5731-40dc-ab0a-62486e0b70ec",
   "metadata": {},
   "source": [
    "$\\begin{equation*}\n",
    " \\begin{cases}\n",
    " v_{ox} = v_{0} \\cos(\\alpha)\\\\\n",
    " v_{oy} = v_{0} \\sin(\\alpha)\n",
    "  \\end{cases}\n",
    "\\end{equation*}$"
   ]
  },
  {
   "cell_type": "markdown",
   "id": "050f2973-77fc-41c9-935f-4cc2dd6fb45b",
   "metadata": {},
   "source": [
    "Составим уравнения координат:"
   ]
  },
  {
   "cell_type": "markdown",
   "id": "4d600a27-6650-4dc3-aa18-a57ecbf138ee",
   "metadata": {},
   "source": [
    "$\\begin{equation*}\n",
    " \\begin{cases}\n",
    " x = v_{ox}t\\\\\n",
    " y = v_{oy}t - \\frac{gt^{2}}{2}\n",
    "  \\end{cases}\n",
    "\\end{equation*}$"
   ]
  },
  {
   "cell_type": "markdown",
   "id": "b804ab1c-11e7-4db7-881d-9490ead8cd3f",
   "metadata": {},
   "source": [
    "Так как тело в итоге падает на землю, то координата y = 0:"
   ]
  },
  {
   "cell_type": "markdown",
   "id": "93edcb6e-c9eb-4a1b-a03a-469a01d564d1",
   "metadata": {},
   "source": [
    "$v_{oy} - \\frac{gt^{2}}{2} = 0$"
   ]
  },
  {
   "cell_type": "markdown",
   "id": "a0133fc2-f66b-4406-81e1-89bea6b34ed7",
   "metadata": {},
   "source": [
    "Выразим из этого уравнения t:"
   ]
  },
  {
   "cell_type": "markdown",
   "id": "73b6f48a-e3b1-45bd-a5bf-6cc6a4afd8be",
   "metadata": {},
   "source": [
    "$t(v_{oy} - \\frac{gt}{2}) = 0$"
   ]
  },
  {
   "cell_type": "markdown",
   "id": "df74cec8-e040-4e0c-a6c0-4460638e235a",
   "metadata": {},
   "source": [
    "$\\begin{equation*}\n",
    " \\begin{cases}\n",
    " t = 0\\\\\n",
    " v_{oy} - \\frac{gt}{2} = 0\n",
    "  \\end{cases}\n",
    "\\end{equation*}$"
   ]
  },
  {
   "cell_type": "markdown",
   "id": "9d566523-4603-4fb2-8f7e-57af283bb38d",
   "metadata": {},
   "source": [
    "$\\begin{equation*}\n",
    " \\begin{cases}\n",
    " t = 0\\\\\n",
    " t = \\frac{2v_{0y}}{g}\n",
    "  \\end{cases}\n",
    "\\end{equation*}$"
   ]
  },
  {
   "cell_type": "markdown",
   "id": "e9b27639-ce6e-4ea0-a859-6463df7e9bb3",
   "metadata": {},
   "source": [
    "$\\begin{equation*}\n",
    " \\begin{cases}\n",
    " t = 0\\\\\n",
    " t = \\frac{2v_{0} \\sin(\\alpha)}{g}\n",
    "  \\end{cases}\n",
    "\\end{equation*}$"
   ]
  },
  {
   "cell_type": "markdown",
   "id": "a51a0e2b-4d34-47ed-a05c-45e2e05646f7",
   "metadata": {},
   "source": [
    "Соотвественно время полета тела:"
   ]
  },
  {
   "cell_type": "markdown",
   "id": "3803566f-e882-4016-bc7f-8343d69f04e1",
   "metadata": {},
   "source": [
    "$t = \\frac{2v_{0} \\sin(\\alpha)}{g}$"
   ]
  },
  {
   "cell_type": "markdown",
   "id": "e4270e03-27b4-446f-b604-23df004d5c55",
   "metadata": {},
   "source": [
    "Рассчитаем расстояние на которое улетит тело:"
   ]
  },
  {
   "cell_type": "markdown",
   "id": "6dd2856f-5f9c-4986-b239-87380264264b",
   "metadata": {},
   "source": [
    "$L = v_{0x}t$"
   ]
  },
  {
   "cell_type": "markdown",
   "id": "64abb14f-258d-4f8b-8f19-b9a2429ed7e8",
   "metadata": {},
   "source": [
    "$L = v_{0} \\cos(\\alpha)t$"
   ]
  },
  {
   "cell_type": "markdown",
   "id": "b1cdf4fe-d056-4584-b7a5-862d644d4376",
   "metadata": {},
   "source": [
    "$L = \\frac {2{v_{0}}^{2}\\cos(\\alpha)\\sin(\\alpha)}{g}$"
   ]
  },
  {
   "cell_type": "markdown",
   "id": "a06d17aa-fdc8-4c29-9a94-281569b91a63",
   "metadata": {},
   "source": [
    "$L = \\frac {{v_{0}}^{2}\\sin(2\\alpha)}{g}$"
   ]
  },
  {
   "cell_type": "markdown",
   "id": "5a3acc85-464b-4259-a136-aa260d756696",
   "metadata": {},
   "source": [
    "Также выведем угол $\\alpha$ из этой формулы:"
   ]
  },
  {
   "cell_type": "markdown",
   "id": "9d542dd7-a1ed-4d2a-879b-6b1887ae20b9",
   "metadata": {},
   "source": [
    "$sin(2\\alpha) = \\frac {Lg}{{v_{0}}^{2}}$"
   ]
  },
  {
   "cell_type": "markdown",
   "id": "3a613eb5-16d4-417a-a1c3-529f74f08af2",
   "metadata": {},
   "source": [
    "$2\\alpha = \\arcsin(\\frac {Lg}{{v_{0}}^{2}})$"
   ]
  },
  {
   "cell_type": "markdown",
   "id": "684fdbfc-a73c-424b-9ce9-1ad0932e3c54",
   "metadata": {},
   "source": [
    "$\\alpha = \\frac {\\arcsin(\\frac {Lg}{{v_{0}}^{2}})}{2}$"
   ]
  },
  {
   "cell_type": "markdown",
   "id": "08a48425-0f8f-448c-ab3e-e55c4f35ec5d",
   "metadata": {},
   "source": [
    "Выведем формулу траекторию с помощью метода наименьших квадратов:"
   ]
  },
  {
   "cell_type": "markdown",
   "id": "395f80a9-2728-4b1b-945e-1a77c9df9b9a",
   "metadata": {},
   "source": [
    "$err = \\sum{(l - (ax^{2} + bx + c))^{2}}$"
   ]
  },
  {
   "cell_type": "markdown",
   "id": "7430ad3b-0340-4ab2-8b99-d8f63a3cb179",
   "metadata": {},
   "source": [
    "$\\begin{equation}\n",
    " \\begin{cases}\n",
    "    \\frac{derr}{da} = 0\\\\\n",
    "    \\frac{derr}{db} = 0\\\\\n",
    "    \\frac{derr}{dc} = 0\\\\\n",
    " \\end{cases}\n",
    "\\end{equation}$"
   ]
  },
  {
   "cell_type": "markdown",
   "id": "606421e2-fb51-43ba-9766-0bd5b5602f2b",
   "metadata": {},
   "source": [
    "$y(x) = ax^{2} + bx + c$"
   ]
  },
  {
   "cell_type": "markdown",
   "id": "96aa8a78-c786-4368-b811-60e36e861eb9",
   "metadata": {},
   "source": [
    "Выведем формулу для расчета угла запуска ракеты перехватчика:"
   ]
  },
  {
   "cell_type": "markdown",
   "id": "74bcfc8e-6971-426c-9bb7-ce6fb8ce5551",
   "metadata": {},
   "source": [
    "$\\begin{equation*}\n",
    " \\begin{cases}\n",
    "    v_{0} \\cos(\\alpha)(t + t_{зад}) = L_{1} + u_{0}\\cos(\\gamma)t\\\\\n",
    "    v_{0} \\sin(\\alpha)(t + t_{зад}) - \\frac{g(t + t_{зад})^{2}}{2}  = u_{0}\\sin(\\gamma)t - \\frac{gt^2}{2}\n",
    " \\end{cases}\n",
    "\\end{equation*}$"
   ]
  },
  {
   "cell_type": "markdown",
   "id": "cf5320ef-ed80-4add-a0d2-5c40848d21ec",
   "metadata": {},
   "source": [
    "$\\gamma = \\arccos(\\frac{ab\\pm\\sqrt{a^2+b^2-1}}{1+a^2}),\\ a =  \\frac{v_{0} \\sin(\\alpha) - \\frac{gt_{зад}}{2}}{v_{0} \\cos(\\alpha) - \\frac{L_{1}}{t_{зад}}},\\ b = \\frac{-gtv_{0}*\\cos(\\alpha)+2L_{1}(g-\\frac{v_{0}\\sin(\\alpha)}{t_{зад}})}{2u_{0}(\\frac{L_{1}}{t_{зад}-v_{0}\\cos(\\alpha)})}$"
   ]
  },
  {
   "cell_type": "markdown",
   "id": "e260ec6a-e7f4-4090-95a8-d135728fbeb8",
   "metadata": {},
   "source": [
    "#### Численное решение"
   ]
  },
  {
   "cell_type": "markdown",
   "id": "2297e0c3-85e8-464f-bbd9-238771973d67",
   "metadata": {},
   "source": [
    "Функция расчета дальности полета:"
   ]
  },
  {
   "cell_type": "code",
   "execution_count": 1,
   "id": "8ebb63c5-fe13-43d9-8de1-4c2f8ae863fa",
   "metadata": {},
   "outputs": [],
   "source": [
    "import math\n",
    "\n",
    "def calc_L(v, alpha):\n",
    "    return (v**2)*math.sin(2*alpha*math.pi/180)/9.80665"
   ]
  },
  {
   "cell_type": "markdown",
   "id": "41aef330-9676-4bb6-99d2-66d7753e7e3c",
   "metadata": {},
   "source": [
    "Функция расчета зависимости дальности от угла:"
   ]
  },
  {
   "cell_type": "code",
   "execution_count": 2,
   "id": "4bb7f197-a4aa-4e9f-9b5e-a26ee185c805",
   "metadata": {},
   "outputs": [],
   "source": [
    "import matplotlib.pyplot as plt\n",
    "\n",
    "def calc_max_L(v):\n",
    "    alpha = list(map(lambda x: x, range(0, 91, 1)))\n",
    "    l = []\n",
    "    for item in alpha:\n",
    "        tmp = calc_L(v, item)\n",
    "        if (item % 15 == 0):\n",
    "            print(item, tmp)\n",
    "        l.append(tmp)\n",
    "        \n",
    "    plt.plot(alpha, l, 'r', label = \"V ракеты(a)\")\n",
    "    plt.legend (loc=(0.01, 0.02))\n",
    "    plt.title(\"Зависимость дальности полета от угла к горизонту\")\n",
    "    plt.xlabel(\"Угол, $^{\\circ}$\")\n",
    "    plt.ylabel(\"Дальность полета, $ м $\")\n",
    "    plt.grid(color = 'grey', linestyle = '-.', linewidth = 0.5)\n",
    "    plt.rcParams[\"figure.figsize\"] = (8,8)"
   ]
  },
  {
   "cell_type": "markdown",
   "id": "60104b01-0f07-4dee-9f6d-f91f5e6e961b",
   "metadata": {},
   "source": [
    "Посчитаем значения дальности полета при разных углах для $v_{0}$(1000 м/с). </br>\n",
    "Убедимся что максимальная дальность полета достигается при угле $\\pi$/4 (45 градусов)."
   ]
  },
  {
   "cell_type": "code",
   "execution_count": 3,
   "id": "076aee42-226c-4a5c-9a18-76eb24967c2a",
   "metadata": {},
   "outputs": [
    {
     "name": "stdout",
     "output_type": "stream",
     "text": [
      "0 0.0\n",
      "15 50985.81064889641\n",
      "30 88310.0145089749\n",
      "45 101971.62129779284\n",
      "60 88310.01450897491\n",
      "75 50985.81064889641\n",
      "90 1.2487921962620808e-11\n"
     ]
    },
    {
     "data": {
      "image/png": "[encoded data removed]",
      "text/plain": [
       "<Figure size 432x288 with 1 Axes>"
      ]
     },
     "metadata": {
      "needs_background": "light"
     },
     "output_type": "display_data"
    }
   ],
   "source": [
    "v = 1000\n",
    "calc_max_L(v)"
   ]
  },
  {
   "cell_type": "markdown",
   "id": "93f999ae-8f2c-4835-9caa-c88b5f4cd3fc",
   "metadata": {},
   "source": [
    "Функция добавления ошибки к траектории противника в интервале с 15 по 40 секунды:"
   ]
  },
  {
   "cell_type": "code",
   "execution_count": 4,
   "id": "4ed75aee-f76f-43c3-90ec-eb8006c7f578",
   "metadata": {},
   "outputs": [],
   "source": [
    "import random\n",
    "\n",
    "def get_y_with_eps(y):\n",
    "    eps = 20\n",
    "    return random.normalvariate(y, eps)"
   ]
  },
  {
   "cell_type": "markdown",
   "id": "9926c7de-c19b-42f0-b5e6-5af63c21fcf8",
   "metadata": {},
   "source": [
    "Функция подсчета угла по дальности полета и скорости:"
   ]
  },
  {
   "cell_type": "code",
   "execution_count": 5,
   "id": "9721353a-a0b3-422a-8087-b679f6214f5f",
   "metadata": {},
   "outputs": [],
   "source": [
    "import math\n",
    "g = 9.80665\n",
    "\n",
    "def calc_alpha(L, v):\n",
    "    return math.asin(L*g/(v*v))/2"
   ]
  },
  {
   "cell_type": "markdown",
   "id": "a029bff7-8af0-4d13-8a0e-d45312b22bee",
   "metadata": {},
   "source": [
    "Функция моделирования ПРО итеративным методом:"
   ]
  },
  {
   "cell_type": "code",
   "execution_count": 6,
   "id": "9e5e9a1e-eaee-45d8-a94a-16cfe8e1dbc7",
   "metadata": {
    "tags": []
   },
   "outputs": [],
   "source": [
    "import matplotlib.pyplot as plt\n",
    "import decimal\n",
    "import sympy\n",
    "\n",
    "def all_graphs(v, u, L1, t_zad):\n",
    "    g = 9.80665\n",
    "    \n",
    "    # угол запуска вражеской ракеты\n",
    "    alpha = math.pi/4\n",
    "    \n",
    "    # x и y траектории вражеской ракеты\n",
    "    x = []\n",
    "    y = []\n",
    "    \n",
    "    # x и y траектории ракеты возмездия\n",
    "    revenge_x = []\n",
    "    revenge_y = []\n",
    "    \n",
    "    # x и y траектории ракеты перехватчика\n",
    "    defend_x = []\n",
    "    defend_y = []\n",
    "    \n",
    "    # x и y траектории вражеской ракеты в период с 15 по 40 секунды\n",
    "    real_period_x = []\n",
    "    real_period_y = []\n",
    "    \n",
    "    # y траектории вражеской ракеты в период с 15 по 40 секунды, считанной базой\n",
    "    calc_period_y = []\n",
    "    \n",
    "    # y рассчитанной траектории вражеской ракеты\n",
    "    calc_y = []\n",
    "\n",
    "    # время полета вражеской ракеты\n",
    "    t1 = (2*v*math.sin(alpha))/g\n",
    "    \n",
    "    # объявление переменных для метода наименьших квадратов\n",
    "    A = sympy.Symbol('A')\n",
    "    B = sympy.Symbol('B')\n",
    "    C = sympy.Symbol('C')\n",
    "    err = 0\n",
    "    \n",
    "    for item in range(0,round(t1)+1,1):\n",
    "        # подсчет траектории вражеской ракеты\n",
    "        x.append(v * (math.cos(alpha)) * item)\n",
    "        y.append(v * (math.sin(alpha)) * item - (g*item**2)/2)\n",
    "        if item > 15 and item < 41:\n",
    "            # подсчет траектории вражеской ракеты в период с 15 по 40 секунды\n",
    "            real_period_x.append(v * (math.cos(alpha)) * item)\n",
    "            real_period_y.append(v * (math.sin(alpha)) * item - (g*item**2)/2)\n",
    "            # подсчет рассчитанной траектории вражеской ракеты в период с 15 по 40 секунды\n",
    "            calc_period_y.append(get_y_with_eps(v * (math.sin(alpha)) * item - (g*item**2)/2))\n",
    "            # подсчет значения для метода наименьших квадратов\n",
    "            err = err + (calc_period_y[-1] - (A * (real_period_x[-1])**2 + B * real_period_x[-1] + C ))**2\n",
    "    # завершение подсчета траектории вражеской ракеты       \n",
    "    x.append(v * (math.cos(alpha)) * t1)\n",
    "    y.append(v * (math.sin(alpha)) * t1 - (g*t1**2)/2)\n",
    "    \n",
    "    # подсчет угла запуска ракеты перехватчика      \n",
    "    dA = sympy.diff(err, A)\n",
    "    dB = sympy.diff(err, B)\n",
    "    dC = sympy.diff(err, C)\n",
    "    \n",
    "    res = sympy.linsolve([dA, dB, dC], (A, B, C))\n",
    "    a,b,c = res.args[0][0], res.args[0][1], res.args[0][2]\n",
    "    \n",
    "    gamma_a = (v*math.sin(alpha)-(g*t_zad)/2)/(v*math.cos(alpha)-L1/t_zad)\n",
    "    gamma_b = (-g*t_zad*v*math.cos(alpha) +2*L1*(g-v*math.sin(alpha)/t_zad))/(2*u*(L1/(t_zad-v*math.cos(alpha))))\n",
    "    gamma = math.acos((gamma_a*gamma_b+math.sqrt(gamma_a**2+gamma_b**2-1))/(1+gamma_a**2))\n",
    "    print(\"gamma: \", gamma*180/math.pi, \"°\", sep=\"\")\n",
    "    \n",
    "    # подсчет рассчитанной траектории вражеской ракеты в период с 15 по 40 секунды\n",
    "    for item in x:\n",
    "        calc_y.append(a * (item)**2 + b * item + c)\n",
    "    \n",
    "    # подсчет траектории ракеты перехватчика\n",
    "    t_zad = list(map(lambda x: x/10, range(0, t_zad*10, 1)))\n",
    "    \n",
    "    is_first = True\n",
    "    for item in t_zad:\n",
    "        if not is_first and defend_y[-1] > max(calc_y):\n",
    "            break\n",
    "        is_first = False\n",
    "        defend_x.append(L1 - u * (math.cos(gamma)) * item)\n",
    "        defend_y.append(u * (math.sin(gamma)) * item - (g*item**2)/2)\n",
    "        \n",
    "    # расчет расстояния до базы противника   \n",
    "    L_enemy = L1 - x[0]\n",
    "    \n",
    "    # расчет угла запуска ракеты возмездия\n",
    "    beta = calc_alpha(L_enemy, u)\n",
    "    print(\"beta: \", beta*180/math.pi, \"°\", sep=\"\")\n",
    "    \n",
    "    # время полета ракеты возмездия\n",
    "    t2 = (2*u*math.sin(beta))/g\n",
    "    \n",
    "    # подсчет траектории ракеты возмездия\n",
    "    revenge_x.append(u * (math.cos(beta)) * t2)\n",
    "    revenge_y.append(u * (math.sin(beta)) * t2 - (g*t2**2)/2)\n",
    "    for item in range(round(t2), -1, -1):\n",
    "        revenge_x.append(u * (math.cos(beta)) * item)\n",
    "        revenge_y.append(u * (math.sin(beta)) * item - (g*item**2)/2)\n",
    "        \n",
    "    plt.plot(0,0,'r^',label='База врага')\n",
    "    plt.plot(x[-1],0,'m^',label='Мишень')\n",
    "    plt.plot(L1,0,'g^',label='База')\n",
    "    \n",
    "    plt.plot(x,y,'r-',label=f'Реальная траектория врага')\n",
    "    plt.plot(x,calc_y, color = 'violet',label=f'Измеренная траектория врага')\n",
    "    plt.plot(revenge_x,revenge_y, color ='limegreen',label=f'Ракета возмездия')\n",
    "    plt.plot(defend_x,defend_y, color ='darkgreen',label=f'Ракета перехватчик')\n",
    "    \n",
    "    plt.plot(real_period_x,real_period_y,'r+',label=f'Реальные значения')\n",
    "    plt.plot(real_period_x,calc_period_y,'g+',label=f'Измеренные значения')\n",
    "    \n",
    "    plt.plot(defend_x[-1],defend_y[-1],'ro',label='Место взрыва двух ракет')\n",
    "    \n",
    "    plt.xlabel(\"x, $ м $\")\n",
    "    plt.ylabel(\"y, $ м $\")\n",
    "    \n",
    "    plt.title(\"Моделирование ПРО\")\n",
    "    plt.legend (loc=\"center left\", bbox_to_anchor=(-0.05,-0.25))\n",
    "    plt.grid()\n",
    "    plt.rcParams[\"figure.figsize\"] = (8,8)"
   ]
  },
  {
   "cell_type": "markdown",
   "id": "d55f40ee-44a9-461a-8b96-cd6481939135",
   "metadata": {},
   "source": [
    "Результат моделирования:"
   ]
  },
  {
   "cell_type": "code",
   "execution_count": 7,
   "id": "de3bc39c-84ec-4ac2-9e0a-53a938f7ab3a",
   "metadata": {},
   "outputs": [
    {
     "name": "stdout",
     "output_type": "stream",
     "text": [
      "gamma: 51.88734796307701°\n",
      "beta: 4.940905911584019°\n"
     ]
    },
    {
     "data": {
      "image/png": "[encoded data removed]",
      "text/plain": [
       "<Figure size 576x576 with 1 Axes>"
      ]
     },
     "metadata": {
      "needs_background": "light"
     },
     "output_type": "display_data"
    }
   ],
   "source": [
    "all_graphs(1000, 2000, 70000, 47)"
   ]
  },
  {
   "cell_type": "markdown",
   "id": "8ea98822-dd8f-437c-94e4-489a980fbb4e",
   "metadata": {},
   "source": [
    "#### Основные источники ошибок"
   ]
  },
  {
   "cell_type": "markdown",
   "id": "75179c62-06ef-4d00-b49e-f99a556c0bcb",
   "metadata": {},
   "source": [
    "<ol>\n",
    "<li>Погрешность входных данных</li>\n",
    "<li>Математическое округление при численных вычислениях</li>\n",
    "<li>Учитана малая часть физических явлений</li>\n",
    "</ol>"
   ]
  }
 ],
 "metadata": {
  "kernelspec": {
   "display_name": "Python 3",
   "language": "python",
   "name": "python3"
  },
  "language_info": {
   "codemirror_mode": {
    "name": "ipython",
    "version": 3
   },
   "file_extension": ".py",
   "mimetype": "text/x-python",
   "name": "python",
   "nbconvert_exporter": "python",
   "pygments_lexer": "ipython3",
   "version": "3.8.8"
  }
 },
 "nbformat": 4,
 "nbformat_minor": 5
}
