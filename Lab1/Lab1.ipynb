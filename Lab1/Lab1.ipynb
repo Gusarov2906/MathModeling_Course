{
 "cells": [
  {
   "cell_type": "markdown",
   "id": "02af314e-1a6d-4701-8b78-cf5c6fc8e970",
   "metadata": {},
   "source": [
    "# Лабораторная работа №1"
   ]
  },
  {
   "cell_type": "markdown",
   "id": "69da98a1-6d4f-4b11-868c-3ece23f602a6",
   "metadata": {},
   "source": [
    "## Моделирование измерения скорости пули"
   ]
  },
  {
   "cell_type": "markdown",
   "id": "92993ff7-041e-4587-a5e5-d738bfcc1cce",
   "metadata": {},
   "source": [
    "#### *Выполнил студент группы ПИН-44 Гусаров Андрей*"
   ]
  },
  {
   "cell_type": "markdown",
   "id": "a8581144-e98b-4412-9497-7e1f12f68423",
   "metadata": {},
   "source": [
    "### Модель 1. Стрельба из огнестрельного оружия строго в горизонтальном направлении с измерением дальности полета пули."
   ]
  },
  {
   "cell_type": "markdown",
   "id": "e67860be-046a-4a3e-8dba-0739c6833e85",
   "metadata": {},
   "source": [
    "#### Постановка задачи"
   ]
  },
  {
   "cell_type": "markdown",
   "id": "5137cc61-3df7-424c-b9fc-78170297be8e",
   "metadata": {},
   "source": [
    "Происходит выстрел в горизонтальном направлении. Требуется найти дальность полета пули."
   ]
  },
  {
   "cell_type": "markdown",
   "id": "8617ec22-86fb-4837-a0d5-dc517c70e866",
   "metadata": {},
   "source": [
    "Предположим, что:\n",
    "<ol>\n",
    "<li>Оружия расположенно параллельно земле и тряска рук исключена</li>\n",
    "<li>Отсутствует сила сопротивления воздуха</li>\n",
    "<li>Выстрел происходит в безветренную погоду</li>\n",
    "<li>Пуля имеет форму шара</li>\n",
    "</ol>\n",
    "\n",
    "Дано: <br>\n",
    "$ V_{нач.} = 800 \\pm 5 \\ м/c $ <br>\n",
    "$ g = 9,80665 \\ м/c^{2} $ (Стандартное («нормальное») значение, принятое при построении систем единиц)<br>\n",
    "$ h = 1,4 \\pm 0,2 \\ м $ <br>\n",
    "$ m = 0,0035 \\pm 0,0005 \\ кг $  (Патрон 5,45х39 мм)<br>\n",
    "Найти: <br>\n",
    "$L$ - дальность полета пули"
   ]
  },
  {
   "cell_type": "markdown",
   "id": "63f561c6-72f2-4ef3-83f2-20f6834f93d3",
   "metadata": {},
   "source": [
    "<img src=\"model1.png\" alt=\"drawing\" width=\"800\"/>"
   ]
  },
  {
   "cell_type": "markdown",
   "id": "08859a85-699f-4451-aef8-a019d3996647",
   "metadata": {
    "tags": []
   },
   "source": [
    "#### Аналитическое исследование"
   ]
  },
  {
   "cell_type": "markdown",
   "id": "97579cdc-6356-4fa3-8e31-1d1ef4243f4a",
   "metadata": {},
   "source": [
    "$ {V}_{x} -горизонтальная\\ скорость$"
   ]
  },
  {
   "cell_type": "markdown",
   "id": "a0de2ffb-f85c-4236-952a-ed8233a9fc29",
   "metadata": {},
   "source": [
    "$ {V}_{y} - вертикальная\\ скорость$"
   ]
  },
  {
   "cell_type": "markdown",
   "id": "ef6c46bd-9b01-4afa-bcfa-07be844dbf7f",
   "metadata": {},
   "source": [
    "$ {g} - ускорение\\ свободного\\ падения$"
   ]
  },
  {
   "cell_type": "markdown",
   "id": "8d90b923-5518-4452-b1bd-0c2476924cc4",
   "metadata": {},
   "source": [
    "$ {F}_{тяж.} = mg $"
   ]
  },
  {
   "cell_type": "markdown",
   "id": "cd1e9b9a-93ea-4daa-ad52-2982d91a35bf",
   "metadata": {},
   "source": [
    "$ {V}_{x} = V_{нач.} $"
   ]
  },
  {
   "cell_type": "markdown",
   "id": "f747bb3c-4abc-49f9-8586-d600f12f2054",
   "metadata": {},
   "source": [
    "$ {V}_{y} = \\frac{-{F}_{тяж.}}{m}t $"
   ]
  },
  {
   "cell_type": "markdown",
   "id": "a10ba8fd-42cd-4d4c-bc1e-0dfebd2d617c",
   "metadata": {},
   "source": [
    "Так как пуля упадет на землю, то конечное положение по вертикале будет равно нулю:"
   ]
  },
  {
   "cell_type": "markdown",
   "id": "2eeb384a-9458-4cbb-99b6-39de33d8aa62",
   "metadata": {},
   "source": [
    "$ y = 0 $"
   ]
  },
  {
   "cell_type": "markdown",
   "id": "bd9d9515-5b22-4075-8a78-5bda51c1b646",
   "metadata": {},
   "source": [
    "Составим уравнения координат для пули:"
   ]
  },
  {
   "cell_type": "markdown",
   "id": "9b7037c3-736b-442b-b5a5-318a91a16e88",
   "metadata": {},
   "source": [
    "$\\begin{equation*}\n",
    " \\begin{cases}\n",
    " x = {V}_{x}t\\\\\n",
    " y = {h} + {V}_{y}t\n",
    "  \\end{cases}\n",
    "\\end{equation*}$"
   ]
  },
  {
   "cell_type": "markdown",
   "id": "ccb578c7-660c-4d1b-a1d5-91eff933c48e",
   "metadata": {},
   "source": [
    "Подставим формулы и выразим дальность полета пули:"
   ]
  },
  {
   "cell_type": "markdown",
   "id": "39ef6793-88b4-413d-b5a2-a7adcde73c69",
   "metadata": {},
   "source": [
    "$\\begin{equation*}\n",
    " \\begin{cases}\n",
    "   x = {V}_{x}t\\\\\n",
    "   0 = {h} - \\frac{gt^{2}}{2}\n",
    " \\end{cases}\n",
    "\\end{equation*}$"
   ]
  },
  {
   "cell_type": "markdown",
   "id": "1702d49e-4cca-4d61-9000-6ffa046fb4b3",
   "metadata": {},
   "source": [
    "$\\begin{equation*}\n",
    " \\begin{cases}\n",
    "   L = {V}_{x}t\\\\\n",
    "   t = \\sqrt\\frac{2h}{g}\n",
    " \\end{cases}\n",
    "\\end{equation*}$"
   ]
  },
  {
   "cell_type": "markdown",
   "id": "b7fa23fe-87e3-4000-a7a0-e84d8369b1a8",
   "metadata": {},
   "source": [
    "$ L = V_{нач.}\\sqrt\\frac{2h}{g} $"
   ]
  },
  {
   "cell_type": "markdown",
   "id": "d071b74a-9735-42fe-bbfb-9d3853136043",
   "metadata": {},
   "source": [
    "Исходя из полученной формулы, массой пули можно пренебречь."
   ]
  },
  {
   "cell_type": "markdown",
   "id": "13856bbf-324a-48eb-8b64-4a6d13114585",
   "metadata": {},
   "source": [
    "#### Численное решение"
   ]
  },
  {
   "cell_type": "markdown",
   "id": "06d291cd-2f28-48fd-a646-40618e688969",
   "metadata": {},
   "source": [
    "Функция для вычисления численного значения дальности поле пули:"
   ]
  },
  {
   "cell_type": "code",
   "execution_count": 1,
   "id": "87e71ec7-a5f6-4fbd-acc7-b78a515a1af2",
   "metadata": {
    "tags": []
   },
   "outputs": [],
   "source": [
    "import math\n",
    "\n",
    "def get_distance(v,h, g):\n",
    "    l = v* math.sqrt((2*h)/g)\n",
    "    return l"
   ]
  },
  {
   "cell_type": "markdown",
   "id": "ec3a88e7-59b0-4026-bd00-4a40ab43cf50",
   "metadata": {},
   "source": [
    "Численное решение без учета погрешностей с исходными данными:"
   ]
  },
  {
   "cell_type": "code",
   "execution_count": 2,
   "id": "c4c2ee4b-f1ee-46b1-9f38-31d676839e97",
   "metadata": {
    "tags": []
   },
   "outputs": [
    {
     "name": "stdout",
     "output_type": "stream",
     "text": [
      "427.4729761817053\n"
     ]
    }
   ],
   "source": [
    "v = 800\n",
    "h = 1.4\n",
    "g = 9.80665\n",
    "\n",
    "print(get_distance(v, h, g))"
   ]
  },
  {
   "cell_type": "markdown",
   "id": "7e16647c-5383-45dc-9948-2dafcbe8861b",
   "metadata": {},
   "source": [
    "Функция расчета погрешности:"
   ]
  },
  {
   "cell_type": "code",
   "execution_count": 3,
   "id": "0c04ac32-7f3a-4966-8312-b1a1b3d6bfcf",
   "metadata": {},
   "outputs": [],
   "source": [
    "import sympy\n",
    "import math\n",
    "\n",
    "def get_delta_L(v, dv, h, dh):\n",
    "    def get_delta_v(dv, h, g):\n",
    "        v =  sympy.Symbol('v')\n",
    "        delta_v = sympy.diff(v* sympy.sqrt((2*h)/g), v) * dv\n",
    "        return delta_v\n",
    "\n",
    "    def get_delta_h(dh, v, g, numeric_h):\n",
    "        h = sympy.Symbol('h')\n",
    "        delta_h = (sympy.diff(v* sympy.sqrt((2*h)/g), h) * dh).subs(h, numeric_h)\n",
    "        return delta_h\n",
    "    \n",
    "    delta_v = get_delta_v(dv, h, g)\n",
    "    delta_h = get_delta_h(dh, v, g, h)\n",
    "    delta_l = delta_v + delta_h\n",
    "    return delta_l"
   ]
  },
  {
   "cell_type": "markdown",
   "id": "a4f95b74-ee10-43b4-9869-1286c87a8558",
   "metadata": {},
   "source": [
    "Расчет погрешности:"
   ]
  },
  {
   "cell_type": "code",
   "execution_count": 4,
   "id": "ebd3c1fe-a876-43fe-b92b-e8a2e5f9f65d",
   "metadata": {
    "tags": []
   },
   "outputs": [
    {
     "name": "stdout",
     "output_type": "stream",
     "text": [
      "Погрешность дальности полета пули: 33.2054901141146\n"
     ]
    }
   ],
   "source": [
    "v = 800\n",
    "h = 1.4\n",
    "g = 9.80665\n",
    "\n",
    "dv = 5\n",
    "dh = 0.2\n",
    "\n",
    "print('Погрешность дальности полета пули:', get_delta_L(v, dv, h, dh))"
   ]
  },
  {
   "cell_type": "markdown",
   "id": "7d02dbba-fe7b-4db4-a57e-042ebd5b5e87",
   "metadata": {},
   "source": [
    "Функция построения графика зависимости дальности полета пули от начальной скорости:"
   ]
  },
  {
   "cell_type": "code",
   "execution_count": 5,
   "id": "2d60d42d-dea4-4d53-aef2-5c7210f03490",
   "metadata": {
    "tags": []
   },
   "outputs": [],
   "source": [
    "import matplotlib.pyplot as plt\n",
    "\n",
    "def graph_dependence_flight_range_on_speed(h, g):\n",
    "    v = []\n",
    "    l = []\n",
    "\n",
    "    for i in range(500,1001):\n",
    "        v.append(i)\n",
    "\n",
    "    for item in v:\n",
    "        l.append(get_distance(item,h, g))\n",
    "\n",
    "    plt.plot(v, l, 'r')\n",
    "    plt.title(\"Зависимость дальности полета пули от начальной скорости\")\n",
    "    plt.xlabel(\"Начальная скорость, $ м/c $\")\n",
    "    plt.ylabel(\"Дальность полета пули, м\")\n",
    "    plt.grid(color = 'grey', linestyle = '-.', linewidth = 0.5)\n",
    "    plt.savefig('model1_graph_l_v.png')"
   ]
  },
  {
   "cell_type": "markdown",
   "id": "fb076694-a1bf-419d-af8a-c6da3be076e3",
   "metadata": {},
   "source": [
    "Построения графика зависимости дальности полета пули от начальной скорости:"
   ]
  },
  {
   "cell_type": "code",
   "execution_count": 6,
   "id": "1245a95b-8ae5-44f9-a5e2-6c02f0ef6e63",
   "metadata": {
    "tags": []
   },
   "outputs": [
    {
     "data": {
      "image/png": "[encoded data removed]",
      "text/plain": [
       "<Figure size 432x288 with 1 Axes>"
      ]
     },
     "metadata": {
      "needs_background": "light"
     },
     "output_type": "display_data"
    }
   ],
   "source": [
    "h = 1.4\n",
    "g = 9.80665\n",
    "\n",
    "graph_dependence_flight_range_on_speed(h, g)"
   ]
  },
  {
   "cell_type": "markdown",
   "id": "7bf4e5a3-eef7-4c03-9c9a-dad7152cdc74",
   "metadata": {},
   "source": [
    "Функция расчета скорости:"
   ]
  },
  {
   "cell_type": "code",
   "execution_count": 7,
   "id": "a3171c07-277d-4622-bd02-4e497003688b",
   "metadata": {},
   "outputs": [],
   "source": [
    "def get_speed_model1(l, h, g):\n",
    "    v = l / math.sqrt((2*h)/g)\n",
    "    return v"
   ]
  },
  {
   "cell_type": "markdown",
   "id": "a59195d5-dca7-411c-909a-a3a450f45e58",
   "metadata": {
    "tags": []
   },
   "source": [
    "Функция построения гистограммы частотности значений скорости:"
   ]
  },
  {
   "cell_type": "code",
   "execution_count": 8,
   "id": "0f9a5d12-f446-4f8c-a6fc-88a1359fd806",
   "metadata": {
    "tags": []
   },
   "outputs": [],
   "source": [
    "import random\n",
    "import matplotlib.pyplot as plt\n",
    "\n",
    "def hist_frequency_speed_values_model1(v, dv, h, dh, g):\n",
    "    res = []\n",
    "    \n",
    "    l = get_distance(v, h, g)\n",
    "    delta_L = get_delta_L(v, dv, h, dh)\n",
    "    \n",
    "    for i in range(10000):\n",
    "        res.append(get_speed_model1(random.normalvariate(l, int(3 * delta_L )), h, g))\n",
    "\n",
    "    plt.hist(res, 100, facecolor='r') \n",
    "    plt.title(\"Частотность значений скорости\")\n",
    "    plt.xlabel(\"Скорость, $ м/c $\")\n",
    "    plt.ylabel(\"Количество значений\")\n",
    "    plt.grid(color = 'grey', linestyle = '-.', linewidth = 0.5)\n",
    "    plt.savefig('model1_hist_v.png')"
   ]
  },
  {
   "cell_type": "markdown",
   "id": "535b6362-27eb-4d0d-966c-1ee4f7554aa4",
   "metadata": {},
   "source": [
    "Построения гистограммы частотности значений скорости:"
   ]
  },
  {
   "cell_type": "code",
   "execution_count": 9,
   "id": "34909a0a-c910-4c8b-b25e-23597cd3eec8",
   "metadata": {
    "tags": []
   },
   "outputs": [
    {
     "data": {
      "image/png": "[encoded data removed]",
      "text/plain": [
       "<Figure size 432x288 with 1 Axes>"
      ]
     },
     "metadata": {
      "needs_background": "light"
     },
     "output_type": "display_data"
    }
   ],
   "source": [
    "v = 800\n",
    "h = 1.4\n",
    "g = 9.80665\n",
    "\n",
    "dv = 5\n",
    "dh = 0.2\n",
    "\n",
    "hist_frequency_speed_values_model1(v, dv, h, dh, g)"
   ]
  },
  {
   "cell_type": "markdown",
   "id": "87972908-ac97-4d88-a638-28900419391b",
   "metadata": {},
   "source": [
    "#### Основные источники ошибок"
   ]
  },
  {
   "cell_type": "markdown",
   "id": "b7ef654c-333f-41f9-9c5a-391c4138e728",
   "metadata": {},
   "source": [
    "<ol>\n",
    "<li>Погрешность входных данных</li>\n",
    "<li>Учитана малая часть физических явлений</li>\n",
    "</ol>"
   ]
  },
  {
   "cell_type": "markdown",
   "id": "fa1172b9-5db7-4c81-bfa0-0791b3439d4c",
   "metadata": {},
   "source": [
    "#### Численный результат\n",
    "$ L =(427,473 \\pm 33,205) \\ м $"
   ]
  },
  {
   "cell_type": "markdown",
   "id": "db5c8451-daa6-4766-aebf-c1b77d0a633b",
   "metadata": {},
   "source": [
    "### Модель 2. Стрельба в ящик с песком на жестком подвесе с измерением угла отклонения."
   ]
  },
  {
   "cell_type": "markdown",
   "id": "9d010fe7-bba5-48f1-b0f2-1e40bf820620",
   "metadata": {},
   "source": [
    "#### Постановка задачи"
   ]
  },
  {
   "cell_type": "markdown",
   "id": "baac4d56-cd58-4f1f-92c2-32f9e744ed01",
   "metadata": {},
   "source": [
    "Происходит выстрел в ящик с песком, висящий на жестком подвесе. Пуля застревает в ящике. Найти максимальный угол отклонения ящика."
   ]
  },
  {
   "cell_type": "markdown",
   "id": "9317daaf-438a-4d26-86ef-95ce6f8118a4",
   "metadata": {},
   "source": [
    "Предположим, что:\n",
    "<ol>\n",
    "    <li>Оружия расположенно параллельно земле и тряска рук исключена</li>\n",
    "    <li>Трос нерастяжимый</li>\n",
    "    <li>Отсутствует сила сопротивления воздуха</li>\n",
    "    <li>Выстрел происходит в безветренную погоду</li>\n",
    "    <li>Отсутствуют любые силы трения</li>\n",
    "    <li>Пуля имеет форму шара</li>\n",
    "    <li>Вся кинетическая энергия пули переходит в потенциальную энергию мешка и пули</li>\n",
    "</ol>\n",
    "\n",
    "Дано: <br>\n",
    "$ V_{нач.} = 800 \\pm 5 \\ м/c$ <br>\n",
    "$ g = 9,80665 \\ м/c^{2} $ (Стандартное («нормальное») значение, принятое при построении систем единиц)<br>\n",
    "$ l = 0,5 \\pm 0,1 \\ м $ <br>\n",
    "$ M = 0,9 \\pm 0,005 \\ кг $ <br>\n",
    "$ m = 0,0035 \\pm 0,0005 \\ кг $  (Патрон 5,45х39 мм)<br>\n",
    "Найти: <br>\n",
    "$\\alpha$ - дальность полета пули"
   ]
  },
  {
   "cell_type": "markdown",
   "id": "024fbee7-a921-4ad7-b580-8aa6552b13bd",
   "metadata": {},
   "source": [
    "<img src=\"model2.png\" alt=\"drawing\" width=\"800\"/>"
   ]
  },
  {
   "cell_type": "markdown",
   "id": "ed71f245-4459-4f87-bedb-efdec06e54d2",
   "metadata": {},
   "source": [
    "#### Аналитическое исследование"
   ]
  },
  {
   "cell_type": "markdown",
   "id": "4fc7ad87-9eb8-4cb4-8ed0-9d6b4e623020",
   "metadata": {},
   "source": [
    "$V_{нач.} - начальная\\ скорость\\ пули$"
   ]
  },
  {
   "cell_type": "markdown",
   "id": "b7881571-7a24-439d-8c36-02648e2b5cb3",
   "metadata": {},
   "source": [
    "$V_{столк.} - скорость\\ ящика\\ с\\ пулей\\ в\\ момент\\ столкновения$"
   ]
  },
  {
   "cell_type": "markdown",
   "id": "17a040da-03a1-44dd-b77e-0b63b4d99138",
   "metadata": {},
   "source": [
    "$ {g} - ускорение\\ свободного\\ падения$"
   ]
  },
  {
   "cell_type": "markdown",
   "id": "a1017f4b-b44c-4c3a-aaea-00bfe704ba29",
   "metadata": {},
   "source": [
    "$h - высота\\ подъема\\ ящика$"
   ]
  },
  {
   "cell_type": "markdown",
   "id": "60030c9f-5bf2-4f63-be4f-7f75a0f8f2b1",
   "metadata": {},
   "source": [
    "Формула расчета высоты подъема ящика:"
   ]
  },
  {
   "cell_type": "markdown",
   "id": "ead1ac57-2627-44dc-9db7-f782bee080e0",
   "metadata": {},
   "source": [
    "$h = l(1-\\cos(\\alpha)) $"
   ]
  },
  {
   "cell_type": "markdown",
   "id": "782098c0-850d-4dfd-af8f-224ad7432f13",
   "metadata": {},
   "source": [
    "Кинетическая энергия ящика с пулей в момент столкновения:"
   ]
  },
  {
   "cell_type": "markdown",
   "id": "e3cb3588-b085-40a3-bb3c-c714986cc3aa",
   "metadata": {},
   "source": [
    "$E_{к}=\\frac{(m+M)V_{нач}^{2}}{2}$"
   ]
  },
  {
   "cell_type": "markdown",
   "id": "c4eb8bb7-07aa-4912-88e4-718c7df18826",
   "metadata": {},
   "source": [
    "Потенциальная энергия ящика с пулей в момент столкновения:"
   ]
  },
  {
   "cell_type": "markdown",
   "id": "0146a856-f3cb-4c77-afd0-7d22e36160da",
   "metadata": {},
   "source": [
    "$E_{п}=(m+M)gh$"
   ]
  },
  {
   "cell_type": "markdown",
   "id": "a3712d42-f1c7-4a73-8831-9dd1ed08f2cf",
   "metadata": {},
   "source": [
    "По Закону сохранения энергии:"
   ]
  },
  {
   "cell_type": "markdown",
   "id": "7d15c3af-0ef5-44a1-ab75-744b6795d8eb",
   "metadata": {},
   "source": [
    "$E_{к} = E_{п}$"
   ]
  },
  {
   "cell_type": "markdown",
   "id": "d7f2aead-2325-4154-9584-7068da29a4d7",
   "metadata": {},
   "source": [
    "$\\frac{(m+M)V_{столк}^{2}}{2} = (m+M)gh$"
   ]
  },
  {
   "cell_type": "markdown",
   "id": "9e02076f-e7ab-4ce7-ad18-9418588f0aa3",
   "metadata": {},
   "source": [
    "$\\frac{V_{столк}^{2}}{2} = gh$"
   ]
  },
  {
   "cell_type": "markdown",
   "id": "53e99b98-705d-4440-b116-fd15f4907f95",
   "metadata": {},
   "source": [
    "По Закону сохранения импульса:"
   ]
  },
  {
   "cell_type": "markdown",
   "id": "5d8876cd-a195-45a0-b883-ceac9e504b96",
   "metadata": {},
   "source": [
    "$mV_{нач.}=(m+M)V_{столк.}$"
   ]
  },
  {
   "cell_type": "markdown",
   "id": "6326fe2c-6edd-4dbe-a452-45483eeb7ea6",
   "metadata": {},
   "source": [
    "$V_{столк.} = \\frac{mV_{нач.}}{(m+M)}$"
   ]
  },
  {
   "cell_type": "markdown",
   "id": "d5632c7b-81ec-44b0-9064-e85ff4ac5d0b",
   "metadata": {},
   "source": [
    "$\\frac{({\\frac{mV_{нач.}}{(m+M)})}^{2}}{2}=gh$"
   ]
  },
  {
   "cell_type": "markdown",
   "id": "34db19b1-f73e-42dc-bcb6-21d0bf23eaa6",
   "metadata": {},
   "source": [
    "$\\frac{({\\frac{mV_{нач.}}{(m+M)})}^{2}}{2}=gl(1-\\cos(\\alpha))$"
   ]
  },
  {
   "cell_type": "markdown",
   "id": "0ca22c0a-b615-46bb-89f1-5d5ad9c040e5",
   "metadata": {},
   "source": [
    "$ 1-\\cos(\\alpha) = \\frac{(\\frac{({\\frac{mV_{нач.}}{(m+M)})}^{2}}{2})}{gl}$"
   ]
  },
  {
   "cell_type": "markdown",
   "id": "665a9e7f-e5ca-4d9f-89ca-8654d35480e3",
   "metadata": {},
   "source": [
    "$ \\cos(\\alpha) = 1 - \\frac{(\\frac{({\\frac{mV_{нач.}}{(m+M)})}^{2}}{2})}{gl}$"
   ]
  },
  {
   "cell_type": "markdown",
   "id": "73c25725-3e0c-4e06-9754-9948d53fa3d7",
   "metadata": {},
   "source": [
    "$ \\cos(\\alpha) = 1 - \\frac{({\\frac{mV_{нач.}}{m+M})}^{2}}{2gl}$"
   ]
  },
  {
   "cell_type": "markdown",
   "id": "585b1cca-7a15-4889-ae49-81d7deda890f",
   "metadata": {},
   "source": [
    "$ \\alpha = \\arccos{(1 - \\frac{({\\frac{mV_{нач.}}{m+M})}^{2}}{2gl})}$"
   ]
  },
  {
   "cell_type": "markdown",
   "id": "e6a25c56-b690-4ab6-94f3-8b9094daceec",
   "metadata": {},
   "source": [
    "#### Численное решение"
   ]
  },
  {
   "cell_type": "markdown",
   "id": "85354160-c8bb-453c-94dc-b1c25c9df35b",
   "metadata": {},
   "source": [
    "Функция для вычисления численного решения угла отклонения ящика с пулей:"
   ]
  },
  {
   "cell_type": "code",
   "execution_count": 10,
   "id": "841cb351-267d-43a2-892c-458bf8335ccd",
   "metadata": {},
   "outputs": [],
   "source": [
    "import math\n",
    "\n",
    "def get_angle_deviation(m, M, v, g, l):\n",
    "   return math.acos((1-(((m*v)/(m+M))**2)/(2*g*l)))/math.pi*180"
   ]
  },
  {
   "cell_type": "markdown",
   "id": "ef997e0d-2bbf-4416-bec4-8e451530624a",
   "metadata": {},
   "source": [
    "Численное решение без учета погрешностей с исходными данными:"
   ]
  },
  {
   "cell_type": "code",
   "execution_count": 11,
   "id": "bb9bba46-db8a-471e-aa01-a4320316c5f5",
   "metadata": {
    "tags": []
   },
   "outputs": [
    {
     "name": "stdout",
     "output_type": "stream",
     "text": [
      "59.314605808861394\n"
     ]
    }
   ],
   "source": [
    "m = 0.0035\n",
    "M = 0.9\n",
    "l = 1\n",
    "g = 9.80665\n",
    "v = 800\n",
    "\n",
    "print(get_angle_deviation(m, M, v, g, l))"
   ]
  },
  {
   "cell_type": "markdown",
   "id": "d5656482-ebb2-4a8d-8bbe-7d0ec347d1a1",
   "metadata": {},
   "source": [
    "Функция расчета скорости:"
   ]
  },
  {
   "cell_type": "markdown",
   "id": "a1d4fc6a-2885-43a6-bb68-2f6d93d0b369",
   "metadata": {},
   "source": [
    "$ V_{нач} = \\frac{\\sqrt{2gl(1-\\cos(\\alpha))}(m+M)}{m}$"
   ]
  },
  {
   "cell_type": "code",
   "execution_count": 12,
   "id": "6e46095f-0eb5-41da-94cd-0bad465b9124",
   "metadata": {
    "tags": []
   },
   "outputs": [],
   "source": [
    "import math\n",
    "\n",
    "def get_speed_model2(alpha, m, M, g, l):\n",
    "    v = (math.sqrt(2*g*l*(1-math.cos(alpha*math.pi/180)))*(m+M))/m\n",
    "    return v"
   ]
  },
  {
   "cell_type": "code",
   "execution_count": 13,
   "id": "2331169c-01a9-4e17-b090-1d112fd07813",
   "metadata": {},
   "outputs": [
    {
     "name": "stdout",
     "output_type": "stream",
     "text": [
      "799.9999999999999\n"
     ]
    }
   ],
   "source": [
    "print(get_speed_model2(59.314605808861394, m, M, g, l))"
   ]
  },
  {
   "cell_type": "markdown",
   "id": "4ed56369-6c23-440f-820b-d3182658e42c",
   "metadata": {},
   "source": [
    "Функция расчета погрешности:"
   ]
  },
  {
   "cell_type": "code",
   "execution_count": 14,
   "id": "58f14be1-9208-4f7e-bc58-b5086aa0747d",
   "metadata": {
    "tags": []
   },
   "outputs": [],
   "source": [
    "import sympy\n",
    "import math\n",
    "\n",
    "def get_delta_alpha(v, dv, m, dm, M, dM, g, l, dl):  \n",
    "    \n",
    "    def get_delta_v(dv, m, M, g, l, numeric_v):\n",
    "        v = sympy.Symbol('v')\n",
    "        delta_v = (sympy.diff(sympy.acos((1-(((m*v)/(m+M))**2)/(2*g*l)))/math.pi*180, v)*dv).subs(v, numeric_v)\n",
    "        return delta_v\n",
    "\n",
    "    def get_delta_m(dm, v, M, g, l, numeric_m):\n",
    "        m = sympy.Symbol('m')\n",
    "        delta_m = (sympy.diff(sympy.acos((1-(((m*v)/(m+M))**2)/(2*g*l)))/math.pi*180, m)*dm).subs(m, numeric_m)\n",
    "        return delta_m\n",
    "\n",
    "    def get_delta_M(dM, m, v, g, l, numeric_M):\n",
    "        M = sympy.Symbol('M')\n",
    "        delta_M = (sympy.diff(sympy.acos((1-(((m*v)/(m+M))**2)/(2*g*l)))/math.pi*180, M)*dM).subs(M, numeric_M)\n",
    "        return delta_M\n",
    "\n",
    "    def get_delta_l(dl, m, M, v, g, numeric_l):\n",
    "        l = sympy.Symbol('l')\n",
    "        delta_l = (sympy.diff(sympy.acos((1-(((m*v)/(m+M))**2)/(2*g*l)))/math.pi*180, l)*dl).subs(l, numeric_l)\n",
    "        return delta_l\n",
    "    \n",
    "    delta_v = get_delta_v(dv, m, M, g, l, v)\n",
    "    delta_m = get_delta_m(dm, v, M, g, l, m)\n",
    "    delta_M = get_delta_M(dM, m, v, g, l, M)\n",
    "    delta_l = get_delta_l(dl, m, M, v, g, l)\n",
    "    return delta_v + delta_m + delta_M + delta_l"
   ]
  },
  {
   "cell_type": "markdown",
   "id": "bacc4d5f-b16e-46d2-bd16-617961e62630",
   "metadata": {},
   "source": [
    "Расчет погрешности:"
   ]
  },
  {
   "cell_type": "code",
   "execution_count": 15,
   "id": "3dd233b3-d9f4-46fa-bfa6-d268ddb6bd90",
   "metadata": {},
   "outputs": [
    {
     "data": {
      "text/latex": [
       "$\\displaystyle 6.06941879792596$"
      ],
      "text/plain": [
       "6.06941879792596"
      ]
     },
     "execution_count": 15,
     "metadata": {},
     "output_type": "execute_result"
    }
   ],
   "source": [
    "m = 0.0035\n",
    "M = 0.9\n",
    "l = 1\n",
    "g = 9.80665\n",
    "v = 800\n",
    "\n",
    "dm = 0.0005\n",
    "dM = 0.005\n",
    "dl = 0.1\n",
    "dv = 5\n",
    "\n",
    "get_delta_alpha(v, dv, m, dm, M, dM, g, l, dl)"
   ]
  },
  {
   "cell_type": "markdown",
   "id": "98b9fcac-f684-4bc9-bffe-3d0fd6a5a36d",
   "metadata": {},
   "source": [
    "Функция построение графика зависимости угла отклонения ящика с пулей от начальной скорости пули:"
   ]
  },
  {
   "cell_type": "code",
   "execution_count": 16,
   "id": "98ba667d-4726-4928-8d99-a2b9dbc1b741",
   "metadata": {
    "tags": []
   },
   "outputs": [],
   "source": [
    "import matplotlib.pyplot as plt\n",
    "\n",
    "def graph_dependence_angle_deviation_on_speed(m, M, g, l):\n",
    "    v = []\n",
    "    alpha = []\n",
    "\n",
    "    for i in range(500,1501):\n",
    "        v.append(i)\n",
    "\n",
    "    for item in v:\n",
    "        alpha.append(get_angle_deviation(m, M, item, g, l))\n",
    "\n",
    "    plt.plot(v, alpha, 'r')\n",
    "    plt.title(\"Зависимость угла отклонения ящика с пулей от начальной скорости пули\")\n",
    "    plt.xlabel(\"Начальная скорость, $ м/c $\")\n",
    "    plt.ylabel(\"Угол отклонения, $^{\\circ}$\")\n",
    "    plt.grid(color = 'grey', linestyle = '-.', linewidth = 0.5)\n",
    "    plt.savefig('model2_graph_a_v.png')"
   ]
  },
  {
   "cell_type": "markdown",
   "id": "b84fd1cd-2624-4142-bb46-f0ba38b4d265",
   "metadata": {},
   "source": [
    "Построение графика зависимости угла отклонения ящика с пулей от начальной скорости пули:"
   ]
  },
  {
   "cell_type": "code",
   "execution_count": 17,
   "id": "8e2e8155-85cb-4d87-bf7c-c2ffa7e9d03c",
   "metadata": {},
   "outputs": [
    {
     "data": {
      "image/png": "[encoded data removed]",
      "text/plain": [
       "<Figure size 432x288 with 1 Axes>"
      ]
     },
     "metadata": {
      "needs_background": "light"
     },
     "output_type": "display_data"
    }
   ],
   "source": [
    "m = 0.0035\n",
    "M = 0.9\n",
    "l = 1\n",
    "g = 9.80665\n",
    "v = 800\n",
    "\n",
    "graph_dependence_angle_deviation_on_speed(m, M, g, l)"
   ]
  },
  {
   "cell_type": "markdown",
   "id": "15e5d79c-46c8-4956-aa73-5a9df786932c",
   "metadata": {},
   "source": [
    "Функция построения гистограммы частотности значений начальной скорости:"
   ]
  },
  {
   "cell_type": "code",
   "execution_count": 18,
   "id": "6816bdf6-75a4-46c0-8689-019ea1254e61",
   "metadata": {},
   "outputs": [],
   "source": [
    "import random\n",
    "import matplotlib.pyplot as plt\n",
    "\n",
    "def hist_frequency_speed_values_model2(v, dv, m, dm, M, dM, g, l, dl):\n",
    "    res = []\n",
    "    \n",
    "    aplha = get_angle_deviation(m, M, v, g, l)\n",
    "    delta_alpha = get_delta_alpha(v, dv, m, dm, M, dM, g, l, dl)\n",
    "    \n",
    "    for i in range(10000):\n",
    "        res.append(get_speed_model2(random.normalvariate(aplha, int(3 * delta_alpha)), m, M, g, l))\n",
    "\n",
    "    plt.hist(res, 100, facecolor='r') \n",
    "    plt.title(\"Частотность значений скорости\")\n",
    "    plt.xlabel(\"Скорость, $ м/c $\")\n",
    "    plt.ylabel(\"Количество значений\")\n",
    "    plt.grid(color = 'grey', linestyle = '-.', linewidth = 0.5)\n",
    "    plt.savefig('model2_hist_v.png')"
   ]
  },
  {
   "cell_type": "markdown",
   "id": "36bc5baf-04e1-4bd6-a8e2-6abac6c5b4f4",
   "metadata": {},
   "source": [
    "Построения гистограммы частотности значений начальной скорости:"
   ]
  },
  {
   "cell_type": "code",
   "execution_count": 19,
   "id": "511f8234-0d16-4e12-a747-ff9156edb1d3",
   "metadata": {},
   "outputs": [
    {
     "data": {
      "image/png": "[encoded data removed]",
      "text/plain": [
       "<Figure size 432x288 with 1 Axes>"
      ]
     },
     "metadata": {
      "needs_background": "light"
     },
     "output_type": "display_data"
    }
   ],
   "source": [
    "m = 0.0035\n",
    "M = 0.9\n",
    "l = 1\n",
    "g = 9.80665\n",
    "v = 800\n",
    "\n",
    "dm = 0.0005\n",
    "dM = 0.005\n",
    "dl = 0.1\n",
    "dv = 5\n",
    "\n",
    "hist_frequency_speed_values_model2(v, dv, m, dm, M, dM, g, l, dl)"
   ]
  },
  {
   "cell_type": "markdown",
   "id": "491fcd6a-0bd8-43be-8ace-52ddd75f3ddd",
   "metadata": {},
   "source": [
    "#### Основные источники ошибок"
   ]
  },
  {
   "cell_type": "markdown",
   "id": "40e0ebf4-9203-4253-9525-55c8628529f1",
   "metadata": {},
   "source": [
    "<ol>\n",
    "<li>Погрешность входных данных</li>\n",
    "<li>Учитана малая часть физических явлений</li>\n",
    "</ol>"
   ]
  },
  {
   "cell_type": "markdown",
   "id": "74f6a8ce-3d2a-46be-aedc-c30dcb47512c",
   "metadata": {},
   "source": [
    "#### Численный результат\n",
    "$ \\alpha = (59,314 \\pm 7,701)^{\\circ} $"
   ]
  }
 ],
 "metadata": {
  "kernelspec": {
   "display_name": "Python 3",
   "language": "python",
   "name": "python3"
  },
  "language_info": {
   "codemirror_mode": {
    "name": "ipython",
    "version": 3
   },
   "file_extension": ".py",
   "mimetype": "text/x-python",
   "name": "python",
   "nbconvert_exporter": "python",
   "pygments_lexer": "ipython3",
   "version": "3.8.8"
  }
 },
 "nbformat": 4,
 "nbformat_minor": 5
}
