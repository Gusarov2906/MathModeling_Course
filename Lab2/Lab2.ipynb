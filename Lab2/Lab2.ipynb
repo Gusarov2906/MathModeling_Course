{
 "cells": [
  {
   "cell_type": "markdown",
   "id": "133e2b97-d339-47a5-bf34-2615db026104",
   "metadata": {},
   "source": [
    "# Лабораторная работа №2"
   ]
  },
  {
   "cell_type": "markdown",
   "id": "e16ee3d1-ee43-4d12-8081-17bb559b9e05",
   "metadata": {},
   "source": [
    "## Моделирование проблем ракетостроения"
   ]
  },
  {
   "cell_type": "markdown",
   "id": "1cbf1ad3-fade-47f4-b039-724e8a1fb87b",
   "metadata": {},
   "source": [
    "#### *Выполнил студент группы ПИН-44 Гусаров Андрей*"
   ]
  },
  {
   "cell_type": "markdown",
   "id": "259da136-2270-4b83-a706-ad6658d1bbad",
   "metadata": {},
   "source": [
    "### Модель 1. Исследование одноступенчатой ракеты."
   ]
  },
  {
   "cell_type": "markdown",
   "id": "1db23ebb-0921-4da6-a28c-d1f0172111af",
   "metadata": {},
   "source": [
    "#### Постановка задачи"
   ]
  },
  {
   "cell_type": "markdown",
   "id": "0153dc8b-bad3-4fc5-8882-ad2057a6be73",
   "metadata": {},
   "source": [
    "Рассчитать параметры одноступенчатой ракеты для достижения максимальной скорости."
   ]
  },
  {
   "cell_type": "markdown",
   "id": "ca20c88b-66fd-4e60-ab8f-4bbb9135a8b7",
   "metadata": {},
   "source": [
    "<img src=\"model1.png\" alt=\"drawing\" width=\"400\"/>"
   ]
  },
  {
   "cell_type": "markdown",
   "id": "784ed9bc-ce6c-4cb0-aed6-143bdff1f2a3",
   "metadata": {},
   "source": [
    "Предположим, что:\n",
    "<ol>\n",
    "<li>На ракету действуют только сила тяги</li>\n",
    "<li>Ракета взлетает вертикально вверх(скорость напралена вверх)</li>\n",
    "<li>Ускорение сводобного падения постоянно</li>\n",
    "<li>Ракету примем за материальную точку</li>\n",
    "<li>Движении ракеты происходит под действием только реактивной силы</li>\n",
    "</ol>"
   ]
  },
  {
   "cell_type": "markdown",
   "id": "f72e68d1-a371-48f1-9f85-a00e164ed802",
   "metadata": {},
   "source": [
    "$U - скорость\\ истечения\\ сгорающего\\ топлива$</br>\n",
    "$m_{0} - масса\\ ракеты\\ на\\ старте$</br>\n",
    "$m_{p} - ``полезная``\\ нагрузка$</br>\n",
    "$\\lambda - коэффициент\\ структурной\\ массы$</br>\n",
    "$m_{t} - масса\\ топлива\\ ракеты$</br>\n",
    "$m_{s} - структурная\\ масса\\ ракеты$</br>\n",
    "$v - скорость\\ ракеты$"
   ]
  },
  {
   "cell_type": "markdown",
   "id": "b8bd5946-c6e6-4a3e-964c-59ae1a65b5c6",
   "metadata": {},
   "source": [
    "Дано: <br>\n",
    "$U = (4.24 \\pm 0.05) \\ кг/c$</br>\n",
    "$m_{0} = (549000 \\pm 500) \\ кг \\ (стартовая\\ масса\\ Falcon\\ 9\\ Full\\ Thrust)$</br>\n",
    "$m_{p} = (22800 \\pm 100) \\ кг \\ (полезная\\ масса\\ Falcon\\ 9\\ Full\\ Thrust\\ при\\ выходе\\ на\\ НОО)$</br>\n",
    "$\\lambda = 0.15$</br></br>\n",
    "Найти: <br>\n",
    "$m_{t} - ?$</br>\n",
    "$m_{s} - ?$</br>\n",
    "$v - ?$"
   ]
  },
  {
   "cell_type": "markdown",
   "id": "3bd86b25-f489-405d-ae11-5e1c026333ec",
   "metadata": {
    "tags": []
   },
   "source": [
    "#### Аналитическое исследование"
   ]
  },
  {
   "cell_type": "markdown",
   "id": "32d94e92-6a9b-4e94-b55d-aff99ee779aa",
   "metadata": {},
   "source": [
    "Масса ракеты на старте это сумма структурной массы, массы топлива и \"полезной\" нагрузки:"
   ]
  },
  {
   "cell_type": "markdown",
   "id": "82e07fa0-ced3-4b6b-9b38-83955c85b65d",
   "metadata": {},
   "source": [
    "$m_{0} = m_{p}+m_{s}+m_{t}$"
   ]
  },
  {
   "cell_type": "markdown",
   "id": "6252f08f-d71e-411f-8d53-8f2c1b1e2e84",
   "metadata": {},
   "source": [
    "Формула расчета коэфициента структурной массы:"
   ]
  },
  {
   "cell_type": "markdown",
   "id": "847991fd-6c7a-436b-95ef-0a1bc23d06f5",
   "metadata": {},
   "source": [
    " $\\lambda = \\frac{m_{s}}{m_{0}}$"
   ]
  },
  {
   "cell_type": "markdown",
   "id": "f87bc175-4a48-4c4b-a6f5-7b3d9ed28568",
   "metadata": {},
   "source": [
    "Введем струтурную массу и массу топлива из системы:"
   ]
  },
  {
   "cell_type": "markdown",
   "id": "00c53273-c8b8-470c-8df7-fd4701d36d13",
   "metadata": {},
   "source": [
    "$\\begin{equation*}\n",
    " \\begin{cases}\n",
    " m_{0} = m_{p}+m_{s}+m_{t}\\\\\n",
    " \\lambda = \\frac{m_{s}}{m_{0}}\n",
    "  \\end{cases}\n",
    "\\end{equation*}$"
   ]
  },
  {
   "cell_type": "markdown",
   "id": "34c9ebac-4829-4746-a92d-d369caeab57e",
   "metadata": {},
   "source": [
    "$ m_{s} = \\lambda m_{0}$"
   ]
  },
  {
   "cell_type": "markdown",
   "id": "858e1f49-58c2-484a-aa98-2f2d5ffe5b76",
   "metadata": {},
   "source": [
    "$m_{t} = m_{0} - m_{s} - m_{p}$"
   ]
  },
  {
   "cell_type": "markdown",
   "id": "234a4235-8cac-4be5-8479-cdbce471dc67",
   "metadata": {},
   "source": [
    "Введем обозначение m:"
   ]
  },
  {
   "cell_type": "markdown",
   "id": "94a293af-4279-4536-89ef-6c34717b476c",
   "metadata": {},
   "source": [
    "$m = m_{p}+m_{s}$"
   ]
  },
  {
   "cell_type": "markdown",
   "id": "87217065-753d-42a7-a967-e7d7d5abbf61",
   "metadata": {},
   "source": [
    "Закон сохранения импульса в виде дифференциального уравнения в проекции на ось y:"
   ]
  },
  {
   "cell_type": "markdown",
   "id": "e24cd953-a2eb-460c-8789-290c52f35f9f",
   "metadata": {},
   "source": [
    "$m\\frac{dv}{dt} + U\\frac{dm}{dt} = 0$"
   ]
  },
  {
   "cell_type": "markdown",
   "id": "892c63d0-c25d-4873-bba3-b2eb1467f866",
   "metadata": {},
   "source": [
    "$m\\frac{dv}{dt} = - U\\frac{dm}{dt}$"
   ]
  },
  {
   "cell_type": "markdown",
   "id": "7863a379-09f4-4c56-a364-4c57e21dd4f7",
   "metadata": {},
   "source": [
    "Формула Циолковского, полученная путём интегрирования дифференциального уравнения Мещерского для материальной точки переменной массы:"
   ]
  },
  {
   "cell_type": "markdown",
   "id": "ce5eabba-bbb0-43ad-a279-380015fa2fed",
   "metadata": {},
   "source": [
    "$\\int_0^v dv = - U  \\int_m^{m_{0}} \\frac{dm}{m}$"
   ]
  },
  {
   "cell_type": "markdown",
   "id": "5030d673-6fa2-4f8a-af70-3a44baecbf13",
   "metadata": {},
   "source": [
    "$v = U\\cdot\\ln{(\\frac{m_{0}}{m})}$"
   ]
  },
  {
   "cell_type": "markdown",
   "id": "8ffbce45-717d-4fe8-b181-7b04fa1c6226",
   "metadata": {
    "tags": []
   },
   "source": [
    "$v = U\\cdot\\ln{(\\frac{m_{0}}{m_{p}+m_{s}})}$"
   ]
  },
  {
   "cell_type": "markdown",
   "id": "74d1b693-01e0-43a5-b342-93bec573a80c",
   "metadata": {},
   "source": [
    "$v = U\\cdot\\ln{(\\frac{m_{0}}{m_{0}-m_{t}})}$"
   ]
  },
  {
   "cell_type": "markdown",
   "id": "e05c54fa-1ea8-4fd3-863a-5a572d43f0d2",
   "metadata": {},
   "source": [
    "#### Численное решение"
   ]
  },
  {
   "cell_type": "markdown",
   "id": "4f42cc12-b3ee-4d57-b90a-d48c89979e61",
   "metadata": {},
   "source": [
    "Функция для расчета структурной массы:"
   ]
  },
  {
   "cell_type": "code",
   "execution_count": 1,
   "id": "ea6289e5-7059-46cc-af36-c6cd516c76c7",
   "metadata": {},
   "outputs": [],
   "source": [
    "def getStructMass(m0, lmbd):\n",
    "    return lmbd*m0"
   ]
  },
  {
   "cell_type": "markdown",
   "id": "e52c7832-d84d-4702-8dd6-3b61af35e57d",
   "metadata": {},
   "source": [
    "Функция для расчета массы топлива:"
   ]
  },
  {
   "cell_type": "code",
   "execution_count": 2,
   "id": "e25cfebf-536a-44e6-8954-77057de5d13c",
   "metadata": {},
   "outputs": [],
   "source": [
    "def getFuelMass(m0, mp, ms):\n",
    "    return m0 - mp - ms "
   ]
  },
  {
   "cell_type": "markdown",
   "id": "e79d34ee-ac4c-479c-8a70-80bf73e0eb1e",
   "metadata": {},
   "source": [
    "Функции для расчета скорости:"
   ]
  },
  {
   "cell_type": "code",
   "execution_count": 3,
   "id": "d5aef23c-0621-441d-a704-125532aa9d6f",
   "metadata": {},
   "outputs": [],
   "source": [
    "import math\n",
    "\n",
    "def getSpeed(U, m0, lmbd):\n",
    "    ms = getStructMass(m0, lmbd)\n",
    "    return U*math.log(m0/(mp+ms))\n",
    "\n",
    "def getSpeedWithMp(U, m0, lmbd, mp):\n",
    "    return U*math.log(m0/(mp+ms))"
   ]
  },
  {
   "cell_type": "markdown",
   "id": "0e6aa4aa-a8c4-4a45-b8a0-1b69d27a920e",
   "metadata": {},
   "source": [
    "Расчет структурной массы, массы топлива и скорости:"
   ]
  },
  {
   "cell_type": "code",
   "execution_count": 4,
   "id": "814a7911-8252-4287-9d57-e2feb7507c18",
   "metadata": {},
   "outputs": [
    {
     "name": "stdout",
     "output_type": "stream",
     "text": [
      "ms = 82350.0 кг\n",
      "mt = 443850.0 кг\n",
      "V = 7.007492686889885 км/с\n"
     ]
    }
   ],
   "source": [
    "m0 = 549000\n",
    "mp = 22800\n",
    "lmbd = 0.15\n",
    "U = 4.24\n",
    "\n",
    "ms = getStructMass(m0, lmbd)\n",
    "mt = getFuelMass(m0, mp, ms)\n",
    "\n",
    "print(\"ms =\", ms,  \"кг\")\n",
    "print(\"mt =\", mt, \"кг\")\n",
    "print(\"V =\", getSpeed(U, m0, lmbd), \"км/с\")"
   ]
  },
  {
   "cell_type": "markdown",
   "id": "482667fb-9485-4340-8e07-a94f2b2362ac",
   "metadata": {},
   "source": [
    "Функция построения графика зависимости скорости ракеты от коэффицента структурной массы:"
   ]
  },
  {
   "cell_type": "code",
   "execution_count": 5,
   "id": "27e63db6-53d9-4386-8def-97f0786c1a02",
   "metadata": {},
   "outputs": [],
   "source": [
    "import matplotlib.pyplot as plt\n",
    "\n",
    "def graph_dependence_speed_on_lambda(U, m0, mp):\n",
    "    v = []\n",
    "    v_1_cosm = []\n",
    "    lmbd_list = list(map(lambda x: x/100.0, range(15, 30, 1)))\n",
    "    for item in lmbd_list:\n",
    "        v.append(getSpeed(U, m0, item))\n",
    "        v_1_cosm.append(7.91)\n",
    "    plt.plot(lmbd_list, v, 'r', label = \"V ракеты($\\lambda$)\")\n",
    "    plt.plot(lmbd_list, v_1_cosm, 'm', label = \"V п.к.($\\lambda$)\")\n",
    "    plt.legend (loc=(0.01, 0.02))\n",
    "    plt.title(\"Зависимость скорости ракеты от коэффицента структурной массы\")\n",
    "    plt.xlabel(\"Коэффицент структурной массы\")\n",
    "    plt.ylabel(\"Скорость ракеты, $ км/c $\")\n",
    "    plt.grid(color = 'grey', linestyle = '-.', linewidth = 0.5)"
   ]
  },
  {
   "cell_type": "markdown",
   "id": "3d677ad0-6df7-4e1f-af72-561c0b505d7c",
   "metadata": {},
   "source": [
    "Построение графика зависимости скорости ракеты от коэффицента структурной массы:"
   ]
  },
  {
   "cell_type": "code",
   "execution_count": 6,
   "id": "d1a3ff57-b553-42a1-95af-178dd8600057",
   "metadata": {},
   "outputs": [
    {
     "data": {
      "image/png": "[encoded data removed]",
      "text/plain": [
       "<Figure size 432x288 with 1 Axes>"
      ]
     },
     "metadata": {
      "needs_background": "light"
     },
     "output_type": "display_data"
    }
   ],
   "source": [
    "m0 = 549000\n",
    "mp = 22800\n",
    "lmbd = 0.15\n",
    "U = 4.24\n",
    "\n",
    "graph_dependence_speed_on_lambda(U, m0, mp)"
   ]
  },
  {
   "cell_type": "markdown",
   "id": "af75b42f-2115-4c01-8ef5-1eb92bd7f0b8",
   "metadata": {},
   "source": [
    "Функция построения графика зависимости скорости ракеты от \"полезной\" массы:"
   ]
  },
  {
   "cell_type": "code",
   "execution_count": 7,
   "id": "1b819efe-6a79-4e94-9c03-8a10b8b4bb00",
   "metadata": {},
   "outputs": [],
   "source": [
    "import matplotlib.pyplot as plt\n",
    "\n",
    "def graph_dependence_speed_on_mp(U, m0, lmbd):\n",
    "    v = []\n",
    "    v_1_cosm = []\n",
    "    mp_list = range(0, 50000, 500)\n",
    "    for item in mp_list:\n",
    "        v.append(getSpeedWithMp(U, m0, lmbd, item))\n",
    "        v_1_cosm.append(7.91)\n",
    "\n",
    "    plt.plot(mp_list, v, 'r', label = \"V ракеты($\\lambda$)\")\n",
    "    plt.plot(mp_list, v_1_cosm, 'm', label = \"V п.к.($\\lambda$)\")\n",
    "    plt.legend (loc=(0.01, 0.02))\n",
    "    plt.title(\"Зависимость скорости ракеты от полезной массы\")\n",
    "    plt.xlabel(\"Полезная масса, кг\")\n",
    "    plt.ylabel(\"Скорость ракеты, $ км/c $\")\n",
    "    plt.grid(color = 'grey', linestyle = '-.', linewidth = 0.5)"
   ]
  },
  {
   "cell_type": "markdown",
   "id": "0e779b01-ffea-43f6-ba55-82901692e974",
   "metadata": {},
   "source": [
    "Построение графика зависимости скорости ракеты от \"полезной\" массы:"
   ]
  },
  {
   "cell_type": "code",
   "execution_count": 8,
   "id": "8f5edd85-d049-4426-bdcc-bac39d96410a",
   "metadata": {},
   "outputs": [
    {
     "data": {
      "image/png": "[encoded data removed]",
      "text/plain": [
       "<Figure size 432x288 with 1 Axes>"
      ]
     },
     "metadata": {
      "needs_background": "light"
     },
     "output_type": "display_data"
    }
   ],
   "source": [
    "m0 = 549000\n",
    "mp = 22800\n",
    "lmbd = 0.15\n",
    "U = 4.24\n",
    "\n",
    "graph_dependence_speed_on_mp(U, m0, lmbd)"
   ]
  },
  {
   "cell_type": "markdown",
   "id": "3a73656f-721d-4028-aeb4-7156f1eba245",
   "metadata": {},
   "source": [
    "Минимальная полезная масса используемая на 𝐹𝑎𝑙𝑐𝑜𝑛 9 𝐹𝑢𝑙𝑙 𝑇ℎ𝑟𝑢𝑠𝑡 равна 9300 кг (для полета на Марс). Так как наши параметры практически идентичны этой ракете, то будет рассматривать зависимость на графике примерно начиная именно с этой массы, т.к. значения меньше не используются для подобных ракет. "
   ]
  },
  {
   "cell_type": "markdown",
   "id": "c3bb4e59-43bc-41f0-966b-0fe0284e7f31",
   "metadata": {},
   "source": [
    "Функция построения графика зависимости скорости ракеты от массы топлива:"
   ]
  },
  {
   "cell_type": "code",
   "execution_count": 9,
   "id": "6c1edb4b-c8a0-4c65-b0a4-28eba4b7f2ba",
   "metadata": {},
   "outputs": [],
   "source": [
    "import matplotlib.pyplot as plt\n",
    "\n",
    "def graph_dependence_speed_on_mt(U, m0, lmbd):\n",
    "    v = []\n",
    "    v_1_cosm = []\n",
    "    mt = m0 - mp - getStructMass(m0, lmbd)\n",
    "    mtt = range(0, int(mt))\n",
    "    \n",
    "    for item in mtt:\n",
    "        v.append(U*math.log(m0/(m0-item)))\n",
    "        v_1_cosm.append(7.91)\n",
    "        \n",
    "    print(f\"Максимальная скорость ракеты: {v[-1]}\")    \n",
    "    plt.plot(mtt, v, 'r', label = \"V ракеты($\\lambda$)\")\n",
    "    plt.plot(mtt, v_1_cosm, 'm', label = \"V п.к.($\\lambda$)\")\n",
    "    plt.legend (loc=(0.01, 0.02))\n",
    "    plt.title(\"Зависимость скорости ракеты от массы сожжёного топлива\")\n",
    "    plt.xlabel(\"Масса сожжёного топлива, кг\")\n",
    "    plt.ylabel(\"Скорость ракеты, $ км/c $\")\n",
    "    plt.grid(color = 'grey', linestyle = '-.', linewidth = 0.5)"
   ]
  },
  {
   "cell_type": "markdown",
   "id": "a42a957b-996e-4fbe-97fa-3c3f3854e7ae",
   "metadata": {},
   "source": [
    "Построение графика зависимости скорости ракеты от массы топлива:"
   ]
  },
  {
   "cell_type": "code",
   "execution_count": 10,
   "id": "42f5c740-3808-45ce-8f74-cb2cb0a5d89f",
   "metadata": {},
   "outputs": [
    {
     "name": "stdout",
     "output_type": "stream",
     "text": [
      "Максимальная скорость ракеты: 7.007452363734027\n"
     ]
    },
    {
     "data": {
      "image/png": "[encoded data removed]",
      "text/plain": [
       "<Figure size 432x288 with 1 Axes>"
      ]
     },
     "metadata": {
      "needs_background": "light"
     },
     "output_type": "display_data"
    }
   ],
   "source": [
    "m0 = 549000\n",
    "mp = 22800\n",
    "lmbd = 0.15\n",
    "U = 4.24\n",
    "\n",
    "graph_dependence_speed_on_mt(U, m0, lmbd)"
   ]
  },
  {
   "cell_type": "markdown",
   "id": "d8c67d08-9d03-481f-9eae-3573891b986b",
   "metadata": {},
   "source": [
    "Функция расчета погрешности для скорости ракеты:"
   ]
  },
  {
   "cell_type": "code",
   "execution_count": 11,
   "id": "7aa33a32-898f-4eec-93fe-1511bdf333d0",
   "metadata": {},
   "outputs": [],
   "source": [
    "import sympy\n",
    "import math\n",
    "\n",
    "def get_delta_v(U, dU, m0, dm0, mp, dmp, lmbd):  \n",
    "    ms = getStructMass(m0, lmbd)\n",
    "    \n",
    "    def get_delta_U(dU, m0, mp, ms, numeric_U):\n",
    "        U = sympy.Symbol('U')\n",
    "        delta_U = (sympy.diff(U*sympy.log(m0/(mp+ms)), U)*dU).subs(U, numeric_U)\n",
    "        return delta_U\n",
    "\n",
    "    def get_delta_m0(dm0, U, mp, ms, numeric_m0):\n",
    "        m0 = sympy.Symbol('m0')\n",
    "        delta_m0 = (sympy.diff(U*sympy.log(m0/(mp+ms)), m0)*dm0).subs(m0, numeric_m0)\n",
    "        return delta_m0\n",
    "\n",
    "    def get_delta_mp(dmp, U, m0, ms, numeric_mp):\n",
    "        mp = sympy.Symbol('mp')\n",
    "        delta_mp = (sympy.diff(U*sympy.log(m0/(mp+ms)), mp)*dmp).subs(mp, numeric_mp)\n",
    "        return delta_mp\n",
    "\n",
    "    delta_U = get_delta_U(dU, m0, mp, ms, U)\n",
    "    delta_m0 = get_delta_m0(dm0, U, mp, ms, m0)\n",
    "    delta_mp = get_delta_mp(dmp, U, m0, ms, mp)\n",
    "\n",
    "    return delta_U + delta_m0 + delta_mp"
   ]
  },
  {
   "cell_type": "markdown",
   "id": "829a2c06-57c8-4993-8058-15313408c920",
   "metadata": {},
   "source": [
    "Расчета погрешности для скорости ракеты:"
   ]
  },
  {
   "cell_type": "code",
   "execution_count": 12,
   "id": "6cc5d695-4c9f-4eec-be6b-b6e204932404",
   "metadata": {},
   "outputs": [
    {
     "name": "stdout",
     "output_type": "stream",
     "text": [
      "Погрешность максимальной скорости ракеты: 0.0824647586926915 км/с\n"
     ]
    }
   ],
   "source": [
    "m0 = 549000\n",
    "mp = 22800\n",
    "lmbd = 0.15\n",
    "U = 4.24\n",
    "dm0 = 500\n",
    "dmp = 100\n",
    "dU = 0.05\n",
    "\n",
    "print(f\"Погрешность максимальной скорости ракеты: {get_delta_v(U, dU, m0, dm0, mp, dmp, lmbd)} км/с\")"
   ]
  },
  {
   "cell_type": "markdown",
   "id": "b37cb000-1ad2-49df-86ca-4289c226cf42",
   "metadata": {},
   "source": [
    "#### Основные источники ошибок"
   ]
  },
  {
   "cell_type": "markdown",
   "id": "8aa46a37-6c71-472c-b8b6-86018b6ba749",
   "metadata": {},
   "source": [
    "<ol>\n",
    "<li>Погрешность входных данных</li>\n",
    "<li>Учитана малая часть физических явлений</li>\n",
    "</ol>"
   ]
  },
  {
   "cell_type": "markdown",
   "id": "82611185-d8c2-4a15-9b62-6dfe2502af8e",
   "metadata": {},
   "source": [
    "#### Численный результат\n",
    "$v = (7.007 \\pm 0.082)\\ км/c $"
   ]
  },
  {
   "cell_type": "markdown",
   "id": "095db621-253f-498d-b19d-a1d0d8812aba",
   "metadata": {},
   "source": [
    "Данное значение меньше первой космической скорости (7.91 км/c), следовательно ракета не сможет выйти даже на орбиту вокруг земли."
   ]
  },
  {
   "cell_type": "markdown",
   "id": "8063ef84-c9dc-48e1-b4db-5b7772f1d3bc",
   "metadata": {},
   "source": [
    "### Модель 2. Исследуйте полет многоступенчатой ракеты."
   ]
  },
  {
   "cell_type": "markdown",
   "id": "1b8eb020-6412-4152-a45d-30dfc3f84907",
   "metadata": {},
   "source": [
    "#### Постановка задачи"
   ]
  },
  {
   "cell_type": "markdown",
   "id": "29df1008-d69c-4d2d-87f9-d443c287994b",
   "metadata": {},
   "source": [
    "Рассчитать параметры многоступенчатой ракеты для достижения максимальной скорости."
   ]
  },
  {
   "cell_type": "markdown",
   "id": "569b5ef1-2bcb-4f2c-8f98-637954a85a49",
   "metadata": {},
   "source": [
    "<img src=\"model2.png\" alt=\"drawing\" width=\"300\"/>"
   ]
  },
  {
   "cell_type": "markdown",
   "id": "fd1a0eb3-cd21-410c-8b5b-957ed3e0f03e",
   "metadata": {},
   "source": [
    "Предположим, что:\n",
    "<ol>\n",
    "<li>На ракету действуют только сила тяги</li>\n",
    "<li>Ракета взлетает вертикально вверх</li>\n",
    "<li>Ускорение сводобного падения постоянно</li>\n",
    "<li>Ракету примем за материальную точку</li>\n",
    "<li>Движении ракеты происходит под действием только реактивной силы</li>\n",
    "<li>Структурная масса ракеты без ступеней равна структурной массе одной ступени</li>\n",
    "<li>Все ступени имеют одинаковую массу</li>\n",
    "</ol>"
   ]
  },
  {
   "cell_type": "markdown",
   "id": "742a6623-72c0-4ff3-a930-1e947f842c4c",
   "metadata": {},
   "source": [
    "$U - скорость\\ истечения\\ сгорающего\\ топлива$</br>\n",
    "$m_{0} - масса\\ ракеты\\ на\\ старте$</br>\n",
    "$m_{p} - ``полезная``\\ нагрузка$</br>\n",
    "$\\lambda - коэффициент\\ структурной\\ массы$</br>\n",
    "$m_{t} - масса\\ топлива\\ ракеты$</br>\n",
    "$m_{s} - структурная\\ масса\\ ракеты$</br>\n",
    "$v - скорость\\ ракеты$</br>\n",
    "$n - количество\\ ступеней$</br>\n",
    "$mt1 - масса\\ топлива\\ одной\\ ступени$</br>\n",
    "$ms1 - структурная\\ масса\\ одной\\ ступени $"
   ]
  },
  {
   "cell_type": "markdown",
   "id": "9d16c365-43cc-406f-8408-b26b6e190b2b",
   "metadata": {},
   "source": [
    "Дано: <br>\n",
    "$U = (4.24 \\pm 0.05) \\ кг/c$</br>\n",
    "$m_{0} = (549000 \\pm 500) \\ кг \\ (стартовая\\ масса\\ Falcon\\ 9\\ Full\\ Thrust)$</br>\n",
    "$m_{p} = (22800 \\pm 100) \\ кг \\ (полезная\\ масса\\ Falcon\\ 9\\ Full\\ Thrust\\ при\\ выходе\\ на\\ НОО)$</br>\n",
    "$\\lambda = 0.15$</br>\n",
    "$n = \\{ 1, 2, 3, 4 ,5\\}$<br> <br>\n",
    "Найти: <br>\n",
    "$v_{n} - ?$"
   ]
  },
  {
   "cell_type": "markdown",
   "id": "377571ae-86c6-4488-bac9-315fb0f90199",
   "metadata": {},
   "source": [
    "#### Аналитическое исследование"
   ]
  },
  {
   "cell_type": "markdown",
   "id": "a3b7a9d0-a31a-4ad5-a8c1-70161b53ff8e",
   "metadata": {},
   "source": [
    "Воспользуемся формулами из предыдущей модели и выведем новые значения масс для ступеней:"
   ]
  },
  {
   "cell_type": "markdown",
   "id": "d8b055cf-4f1c-4b08-a038-0c40aba97230",
   "metadata": {},
   "source": [
    "Масса топлива на одну ступень:"
   ]
  },
  {
   "cell_type": "markdown",
   "id": "a35696a6-066e-4f37-b30d-f152cda1ab1a",
   "metadata": {},
   "source": [
    "$m_{t1} = \\frac{m_{t}}{n}$"
   ]
  },
  {
   "cell_type": "markdown",
   "id": "7843175e-cf88-4af9-aae8-b6c9f2875ef5",
   "metadata": {},
   "source": [
    "$m_{t1} = \\frac{(m_{0} - m_{p} - \\lambda * m_{0})}{n}$"
   ]
  },
  {
   "cell_type": "markdown",
   "id": "1d033dc5-253c-468c-b439-55f575a3220a",
   "metadata": {},
   "source": [
    "Из допущений можем ввывести формулу структурной массы одной ступени или ракеты без ступеней вообще:"
   ]
  },
  {
   "cell_type": "markdown",
   "id": "35d94cf3-5c8f-47ed-9312-14bded4191bd",
   "metadata": {},
   "source": [
    "$m_{s1} = \\frac{(m_{s})}{(n+1)}$"
   ]
  },
  {
   "cell_type": "markdown",
   "id": "35278d15-7cbe-413b-85ed-9fa864d89145",
   "metadata": {},
   "source": [
    "$m_{s1} = \\frac{(\\lambda * m_{0})}{(n+1)}$"
   ]
  },
  {
   "cell_type": "markdown",
   "id": "919029ff-9e22-4d51-b5b2-8eee672ec074",
   "metadata": {},
   "source": [
    "Формула для одноступенчатой ракеты:"
   ]
  },
  {
   "cell_type": "markdown",
   "id": "92d56f87-fa30-4ea9-a89e-fa46b9f246b5",
   "metadata": {},
   "source": [
    "$v_{1} = u*ln(\\frac{m_{0}}{m_{0} - m_{t1}})$"
   ]
  },
  {
   "cell_type": "markdown",
   "id": "f8db3c2f-b83e-4df6-a960-ab2128883e73",
   "metadata": {},
   "source": [
    "Формула для ракеты с двумя ступенями(рассчитаем скорость для ракеты с одной ступенью(но с учетом масс всех ступеней в m0), затем сложим с той же формулой но с новым пересчетом масс(без одной ступени):"
   ]
  },
  {
   "cell_type": "markdown",
   "id": "7e7328db-2046-44ab-9860-8c8c2e8c8ac2",
   "metadata": {},
   "source": [
    "$v_{2} = u*ln(\\frac{m_{0}}{m_{0} - m_{t1}}) + u*ln(\\frac{m_{0} - m_{t1} - m_{s1}}{m_{0} - m_{t1} - m_{s1} - m_{t2}})$"
   ]
  },
  {
   "cell_type": "markdown",
   "id": "fb18a3c0-9947-4f45-898d-ca3bee86ae13",
   "metadata": {},
   "source": [
    "Теперь из предыдущей формулы скорости выведем новую для разного количества ступеней(подсчитываем скорость для n ступеней, затем пересчитываем массы, считаем скорость и складываем с предыдущей, и так пока не будут вычтены все ступени):"
   ]
  },
  {
   "cell_type": "markdown",
   "id": "41c23843-2f73-4dfe-9b61-46783d290347",
   "metadata": {},
   "source": [
    "$v_{n} = \\sum_{i = 1}^{n}(u*ln(\\frac{m_{0} - (m_{t1} + m_{s1}) * (i-1)}{m_{0} - m_{t1}*i - m_{s1}*(i-1)}))$"
   ]
  },
  {
   "cell_type": "markdown",
   "id": "31137f6c-d438-4e11-a945-d4bbbaa53ce8",
   "metadata": {},
   "source": [
    "#### Численное решение"
   ]
  },
  {
   "cell_type": "markdown",
   "id": "8f2cbe0e-4ea0-4c1b-bf1b-e19c1935a711",
   "metadata": {},
   "source": [
    "Функция построения графиков зависимости скорости ракеты от массы топлива для разного количество ступеней ракеты:"
   ]
  },
  {
   "cell_type": "code",
   "execution_count": 13,
   "id": "6aec9e8d-6be5-4f00-9745-1f92e09098ec",
   "metadata": {},
   "outputs": [],
   "source": [
    "import matplotlib.pyplot as plt\n",
    "\n",
    "def graph_dependence_speed_on_mt_with_stages(U, m0, lmbd, n, colors):\n",
    "    v = []\n",
    "    v_1_cosm = []\n",
    "    mt1 = (m0 - mp - getStructMass(m0, lmbd))/n\n",
    "    ms1 = getStructMass(m0, lmbd)/(n+1)\n",
    "    mtt = range(0, int(mt1))\n",
    "    mT = range(0, int(mt1)*n)\n",
    "    vk = 0\n",
    "    \n",
    "    for stage in range(n):\n",
    "        for item in mtt:\n",
    "            v.append(vk + U*math.log(m0/(m0-item)))\n",
    "            v_1_cosm.append(7.91)\n",
    "        vk = v[-1]\n",
    "        m0 -= (mt1 + ms1)\n",
    "    if (n == 1):\n",
    "        plt.plot(mT, v_1_cosm, 'm', label = \"Vп.к.($\\lambda$)\")\n",
    "        print(f\"Максимальная скорость ракеты с {n} ступенью: {v[-1]}\")\n",
    "    else:\n",
    "        print(f\"Максимальная скорость ракеты с {n} ступенями: {v[-1]}\")\n",
    "    plt.plot(mT, v, colors, label = f\"Vр.($\\lambda$) n={n}\")\n",
    "    plt.legend (loc=(0.01, 0.02))\n",
    "    plt.title(\"Зависимость скорости ракеты от массы сожжёного топлива\")\n",
    "    plt.xlabel(\"Масса сожжёного топлива, кг\")\n",
    "    plt.ylabel(\"Скорость ракеты, $ км/c $\")\n",
    "    plt.grid(color = 'grey', linestyle = '-.', linewidth = 0.5)"
   ]
  },
  {
   "cell_type": "markdown",
   "id": "f780c582-5cee-429b-b69b-4cfa98381b88",
   "metadata": {},
   "source": [
    "Построение графиков зависимости скорости ракеты от массы топлива для разного количество ступеней ракеты:"
   ]
  },
  {
   "cell_type": "code",
   "execution_count": 14,
   "id": "fab62240-1cdc-4235-bb6f-87e6a39eb643",
   "metadata": {},
   "outputs": [
    {
     "name": "stdout",
     "output_type": "stream",
     "text": [
      "Максимальная скорость ракеты с 1 ступенью: 7.007452363734027\n",
      "Максимальная скорость ракеты с 2 ступенями: 7.918494455981394\n",
      "Максимальная скорость ракеты с 3 ступенями: 8.497696046037063\n",
      "Максимальная скорость ракеты с 4 ступенями: 8.905406587701531\n",
      "Максимальная скорость ракеты с 5 ступенями: 9.21025638948424\n"
     ]
    },
    {
     "data": {
      "image/png": "[encoded data removed]",
      "text/plain": [
       "<Figure size 432x288 with 1 Axes>"
      ]
     },
     "metadata": {
      "needs_background": "light"
     },
     "output_type": "display_data"
    }
   ],
   "source": [
    "m0 = 549000\n",
    "mp = 22800\n",
    "lmbd = 0.15\n",
    "U = 4.24\n",
    "n = 5\n",
    "\n",
    "colors = [\"blue\", \"red\", \"green\", \"black\", \"orange\"]\n",
    "for i in range(n):\n",
    "    graph_dependence_speed_on_mt_with_stages(U, m0, lmbd, i+1, colors[i])"
   ]
  },
  {
   "cell_type": "markdown",
   "id": "f1292d4e-39eb-4d1b-aaa1-e0ff5baebb04",
   "metadata": {},
   "source": [
    "По данному графику, а также выведенным значениям можно заметить, что ракеты с нашими характеристиками с двумя и больше ступенями набирают скорость больше первой космической скорости. Ракета 𝐹𝑎𝑙𝑐𝑜𝑛 9 𝐹𝑢𝑙𝑙 𝑇ℎ𝑟𝑢𝑠𝑡 со схожими характеристиками(масса ракеты на старте и полезная масса одинаковы) имеет две ступени и успешно набирает первую космическую скорость."
   ]
  },
  {
   "cell_type": "markdown",
   "id": "433f39e3-dad3-4996-acdc-ec4361c0a64a",
   "metadata": {},
   "source": [
    "Формула подсчета погрешности скорости ракеты для разного количества ступеней:"
   ]
  },
  {
   "cell_type": "code",
   "execution_count": 15,
   "id": "a479c2ae-ddb3-47bb-917f-b0c0fba98e52",
   "metadata": {},
   "outputs": [],
   "source": [
    "import sympy\n",
    "import math\n",
    "\n",
    "def get_delta_v(U, dU, m0, dm0, mp, dmp, lmbd):  \n",
    "    ms = getStructMass(m0, lmbd)\n",
    "    \n",
    "    def get_delta_U(dU, m0, mp, ms, numeric_U):\n",
    "        U = sympy.Symbol('U')\n",
    "        delta_U = (sympy.diff(U*sympy.log(m0/(mp+ms)), U)*dU).subs(U, numeric_U)\n",
    "        return delta_U\n",
    "\n",
    "    def get_delta_m0(dm0, U, mp, ms, numeric_m0):\n",
    "        m0 = sympy.Symbol('m0')\n",
    "        delta_m0 = (sympy.diff(U*sympy.log(m0/(mp+ms)), m0)*dm0).subs(m0, numeric_m0)\n",
    "        return delta_m0\n",
    "\n",
    "    def get_delta_mp(dmp, U, m0, ms, numeric_mp):\n",
    "        mp = sympy.Symbol('mp')\n",
    "        delta_mp = (sympy.diff(U*sympy.log(m0/(mp+ms)), mp)*dmp).subs(mp, numeric_mp)\n",
    "        return delta_mp\n",
    "\n",
    "    delta_U = get_delta_U(dU, m0, mp, ms, U)\n",
    "    delta_m0 = get_delta_m0(dm0, U, mp, ms, m0)\n",
    "    delta_mp = get_delta_mp(dmp, U, m0, ms, mp)\n",
    "\n",
    "    return delta_U + delta_m0 + delta_mp"
   ]
  },
  {
   "cell_type": "markdown",
   "id": "900b1323-1af9-4fcb-bd61-7959632f3c0b",
   "metadata": {},
   "source": [
    "Подсчет погрешности скорости ракеты для разного количества ступеней:"
   ]
  },
  {
   "cell_type": "code",
   "execution_count": 16,
   "id": "16f212e7-1421-4946-b7d5-c3f658f08c46",
   "metadata": {},
   "outputs": [
    {
     "name": "stdout",
     "output_type": "stream",
     "text": [
      "Погрешность скорости ракеты с 1 ступенью: 0.0824647586926915\n",
      "Погрешность скорости ракеты с 2 ступенями: 0.107865516521753\n",
      "Погрешность скорости ракеты с 3 ступенями: 0.196364354758738\n",
      "Погрешность скорости ракеты с 4 ступенями: 0.272392201883182\n",
      "Погрешность скорости ракеты с 5 ступенями: 0.342505433146988\n"
     ]
    }
   ],
   "source": [
    "m0 = 549000\n",
    "mp = 22800\n",
    "lmbd = 0.15\n",
    "U = 4.24\n",
    "dm0 = 500\n",
    "dmp = 100\n",
    "dU = 0.05\n",
    "N = 5\n",
    "\n",
    "\n",
    "for i in range(N):\n",
    "    n = i + 1\n",
    "    mt1 = (m0 - mp - getStructMass(m0, lmbd))/n\n",
    "    ms1 = getStructMass(m0, lmbd)/(n+1)\n",
    "\n",
    "    delta_V = 0\n",
    "\n",
    "    for stage in range(n):\n",
    "        delta_V += get_delta_v(U, dU, m0, dm0, mp, dmp, lmbd)\n",
    "        m0 -= (mt1 + ms1)\n",
    "    if (n == 1):\n",
    "        print(f\"Погрешность скорости ракеты с {n} ступенью: {delta_V}\")\n",
    "    else:\n",
    "        print(f\"Погрешность скорости ракеты с {n} ступенями: {delta_V}\")"
   ]
  },
  {
   "cell_type": "markdown",
   "id": "39ad4157-9559-4503-9113-08451dc7ba38",
   "metadata": {},
   "source": [
    "#### Основные источники ошибок"
   ]
  },
  {
   "cell_type": "markdown",
   "id": "9281e9d8-4079-45db-babb-2ca5cc308b9d",
   "metadata": {},
   "source": [
    "<ol>\n",
    "<li>Погрешность входных данных</li>\n",
    "<li>Учитана малая часть физических явлений</li>\n",
    "</ol>"
   ]
  },
  {
   "cell_type": "markdown",
   "id": "c417a2a9-2b18-4ff7-9cf0-2f918a8865c2",
   "metadata": {},
   "source": [
    "#### Численный результат\n",
    "$v_{1} = (7.007 \\pm 0.082)\\ км/c $<br>\n",
    "$v_{2} = (7.918 \\pm 0.107)\\ км/c $<br>\n",
    "$v_{3} = (8.498 \\pm 0.196)\\ км/c $<br>\n",
    "$v_{4} = (8.905 \\pm 0.272)\\ км/c $<br>\n",
    "$v_{5} = (9.21 \\pm 0.342)\\ км/c $"
   ]
  },
  {
   "cell_type": "markdown",
   "id": "b69ce547-e3f8-4dcc-92d9-d7647eb0e1cc",
   "metadata": {},
   "source": [
    "Из полученных результатов можно сделать вывод, что ракета с двумя и более ступенями может успешно вылететь из атмосферы."
   ]
  }
 ],
 "metadata": {
  "kernelspec": {
   "display_name": "Python 3",
   "language": "python",
   "name": "python3"
  },
  "language_info": {
   "codemirror_mode": {
    "name": "ipython",
    "version": 3
   },
   "file_extension": ".py",
   "mimetype": "text/x-python",
   "name": "python",
   "nbconvert_exporter": "python",
   "pygments_lexer": "ipython3",
   "version": "3.8.8"
  }
 },
 "nbformat": 4,
 "nbformat_minor": 5
}
